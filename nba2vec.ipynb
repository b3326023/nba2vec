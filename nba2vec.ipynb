{
 "cells": [
  {
   "cell_type": "code",
   "execution_count": 1,
   "metadata": {},
   "outputs": [],
   "source": [
    "# from gensim.models import word2vec\n",
    "import pandas as pd\n",
    "import numpy as np\n",
    "import matplotlib.pyplot as plt\n",
    "\n",
    "import io\n",
    "import itertools\n",
    "import numpy as np\n",
    "import os\n",
    "import re\n",
    "import string\n",
    "import tensorflow as tf\n",
    "import tqdm\n",
    "\n",
    "from tensorflow.keras import Model, Sequential\n",
    "from tensorflow.keras.layers import Input, Activation, Dense, Dot, Embedding, Flatten, GlobalAveragePooling1D, Reshape\n",
    "from tensorflow.keras.layers.experimental.preprocessing import TextVectorization"
   ]
  },
  {
   "cell_type": "markdown",
   "metadata": {},
   "source": [
    "# 1. 資料前處理\n",
    "目標是把四年度的球員隊伍名單整理成一個文字檔案，每一行代表 某年度某一隊的陣容名單"
   ]
  },
  {
   "cell_type": "code",
   "execution_count": 2,
   "metadata": {},
   "outputs": [],
   "source": [
    "# 用來存整理好的陣容名單 [{'哪一年哪一隊': 球員名單list}, ...]\n",
    "team_member = []"
   ]
  },
  {
   "cell_type": "markdown",
   "metadata": {},
   "source": [
    "## 讀取 NBA 球員資料"
   ]
  },
  {
   "cell_type": "code",
   "execution_count": 3,
   "metadata": {},
   "outputs": [],
   "source": [
    "data_dir = \"nba_data/\""
   ]
  },
  {
   "cell_type": "markdown",
   "metadata": {},
   "source": [
    "- NBA 2017 ~ 2018"
   ]
  },
  {
   "cell_type": "code",
   "execution_count": 4,
   "metadata": {},
   "outputs": [],
   "source": [
    "df = pd.read_csv(data_dir+\"17-18.csv\", header=0)\n",
    "# 依據隊伍，把每個球員讀出成一個 list，存起來\n",
    "for team in df['TEAM'].unique():\n",
    "    team_member.append({'team': '17_'+team, 'members': ','.join(df[df['TEAM'] == team]['FULL NAME'].values)})"
   ]
  },
  {
   "cell_type": "markdown",
   "metadata": {},
   "source": [
    "- NBA 2018 ~ 2019"
   ]
  },
  {
   "cell_type": "code",
   "execution_count": 5,
   "metadata": {},
   "outputs": [],
   "source": [
    "df = pd.read_csv(data_dir+\"18-19.csv\", header=0)\n",
    "# 依據隊伍，把每個球員讀出成一個 list，存起來\n",
    "for team in df['TEAM'].unique():\n",
    "    team_member.append({'team': '18_'+team, 'members': ','.join(df[df['TEAM'] == team]['FULL NAME'].values)})"
   ]
  },
  {
   "cell_type": "markdown",
   "metadata": {},
   "source": [
    "- NBA 2019 ~ 2020"
   ]
  },
  {
   "cell_type": "code",
   "execution_count": 6,
   "metadata": {},
   "outputs": [],
   "source": [
    "df = pd.read_csv(data_dir+\"19-20.csv\", header=0)\n",
    "# 依據隊伍，把每個球員讀出成一個 list，存起來\n",
    "for team in df['TEAM'].unique():\n",
    "    team_member.append({'team': '19_'+team, 'members': ','.join(df[df['TEAM'] == team]['FULL NAME'].values)})"
   ]
  },
  {
   "cell_type": "markdown",
   "metadata": {},
   "source": [
    "- NBA 2020 ~ 2021"
   ]
  },
  {
   "cell_type": "code",
   "execution_count": 7,
   "metadata": {},
   "outputs": [],
   "source": [
    "df = pd.read_csv(data_dir+\"20-21.csv\", header=0)\n",
    "# 依據隊伍，把每個球員讀出成一個 list，存起來\n",
    "for team in df['TEAM'].unique():\n",
    "    team_member.append({'team': '20_'+team, 'members': ','.join(df[df['TEAM'] == team]['FULL NAME'].values)})"
   ]
  },
  {
   "cell_type": "markdown",
   "metadata": {},
   "source": [
    "### 將四份檔案整合成一個 DataFrame 並存檔"
   ]
  },
  {
   "cell_type": "code",
   "execution_count": 8,
   "metadata": {},
   "outputs": [],
   "source": [
    "# List 轉為 DataFrame\n",
    "team_member_df = pd.DataFrame(team_member, columns=['team', 'members'])"
   ]
  },
  {
   "cell_type": "markdown",
   "metadata": {},
   "source": [
    "- 建立一個 DataFrame 來存每一年每一個球隊的球員名單(球員以逗號分隔)"
   ]
  },
  {
   "cell_type": "code",
   "execution_count": 9,
   "metadata": {
    "scrolled": true
   },
   "outputs": [
    {
     "data": {
      "text/html": [
       "<div>\n",
       "<style scoped>\n",
       "    .dataframe tbody tr th:only-of-type {\n",
       "        vertical-align: middle;\n",
       "    }\n",
       "\n",
       "    .dataframe tbody tr th {\n",
       "        vertical-align: top;\n",
       "    }\n",
       "\n",
       "    .dataframe thead th {\n",
       "        text-align: right;\n",
       "    }\n",
       "</style>\n",
       "<table border=\"1\" class=\"dataframe\">\n",
       "  <thead>\n",
       "    <tr style=\"text-align: right;\">\n",
       "      <th></th>\n",
       "      <th>team</th>\n",
       "      <th>members</th>\n",
       "    </tr>\n",
       "  </thead>\n",
       "  <tbody>\n",
       "    <tr>\n",
       "      <th>0</th>\n",
       "      <td>17_Min</td>\n",
       "      <td>Aaron Brooks,Andrew Wiggins,Anthony Brown,Cole...</td>\n",
       "    </tr>\n",
       "    <tr>\n",
       "      <th>1</th>\n",
       "      <td>17_Orl</td>\n",
       "      <td>Aaron Gordon,Adreian Payne,Arron Afflalo,Bisma...</td>\n",
       "    </tr>\n",
       "    <tr>\n",
       "      <th>2</th>\n",
       "      <td>17_Dal</td>\n",
       "      <td>Aaron Harrison,Antonius Cleveland,Dennis Smith...</td>\n",
       "    </tr>\n",
       "    <tr>\n",
       "      <th>3</th>\n",
       "      <td>17_Hou</td>\n",
       "      <td>Aaron Jackson,Bobby Brown,Brandan Wright,Brian...</td>\n",
       "    </tr>\n",
       "    <tr>\n",
       "      <th>4</th>\n",
       "      <td>17_Bos</td>\n",
       "      <td>Abdel Nader,Al Horford,Aron Baynes,Daniel Thei...</td>\n",
       "    </tr>\n",
       "  </tbody>\n",
       "</table>\n",
       "</div>"
      ],
      "text/plain": [
       "     team                                            members\n",
       "0  17_Min  Aaron Brooks,Andrew Wiggins,Anthony Brown,Cole...\n",
       "1  17_Orl  Aaron Gordon,Adreian Payne,Arron Afflalo,Bisma...\n",
       "2  17_Dal  Aaron Harrison,Antonius Cleveland,Dennis Smith...\n",
       "3  17_Hou  Aaron Jackson,Bobby Brown,Brandan Wright,Brian...\n",
       "4  17_Bos  Abdel Nader,Al Horford,Aron Baynes,Daniel Thei..."
      ]
     },
     "execution_count": 9,
     "metadata": {},
     "output_type": "execute_result"
    }
   ],
   "source": [
    "team_member_df.to_csv(data_dir+'processed/nba_team_member_17-20.csv', index = False)\n",
    "corpus = team_member_df['members']\n",
    "team_member_df.head()"
   ]
  },
  {
   "cell_type": "markdown",
   "metadata": {},
   "source": [
    "- 找出所有球隊這四年中，有最多球員的數量，用於設置 window_size，也順帶找出最少球員的數量"
   ]
  },
  {
   "cell_type": "code",
   "execution_count": 10,
   "metadata": {},
   "outputs": [
    {
     "name": "stdout",
     "output_type": "stream",
     "text": [
      "Sequence 最長長度: 28\n",
      "編號: 42\n",
      "Sequence 最短長度: 13\n",
      "編號: 117\n"
     ]
    }
   ],
   "source": [
    "max_len = 0\n",
    "max_index = 0\n",
    "min_len = 100\n",
    "min_index = 0\n",
    "for i, members in enumerate(corpus):\n",
    "    if len(members.split(',')) > max_len:\n",
    "        max_len = len(members.split(','))\n",
    "        max_index = i\n",
    "    if len(members.split(',')) < min_len:\n",
    "        min_len = len(members.split(','))\n",
    "        min_index = i\n",
    "        \n",
    "print('Sequence 最長長度:', max_len)\n",
    "print('編號:', max_index)\n",
    "print('Sequence 最短長度:', min_len)\n",
    "print('編號:', min_index)"
   ]
  },
  {
   "cell_type": "markdown",
   "metadata": {},
   "source": [
    "- 建立詞典，保存從球員名字到index的映射"
   ]
  },
  {
   "cell_type": "code",
   "execution_count": 11,
   "metadata": {},
   "outputs": [
    {
     "name": "stdout",
     "output_type": "stream",
     "text": [
      "詞典長度: 856\n"
     ]
    }
   ],
   "source": [
    "vocab, index = {}, 1 # start indexing from 1\n",
    "vocab['<pad>'] = 0 # add a padding token\n",
    "for members in corpus:\n",
    "    for token in members.split(','):\n",
    "        if token not in vocab: \n",
    "            vocab[token] = index\n",
    "            index += 1\n",
    "\n",
    "vocab_size = len(vocab)\n",
    "print('詞典長度:', len(vocab))"
   ]
  },
  {
   "cell_type": "markdown",
   "metadata": {},
   "source": [
    "- 創建逆詞典，保存從index到球員名字的映射"
   ]
  },
  {
   "cell_type": "code",
   "execution_count": 12,
   "metadata": {},
   "outputs": [],
   "source": [
    "inverse_vocab = {index: token for token, index in vocab.items()}"
   ]
  },
  {
   "cell_type": "markdown",
   "metadata": {},
   "source": [
    "- 將所有球員名單句子向量化"
   ]
  },
  {
   "cell_type": "code",
   "execution_count": 13,
   "metadata": {},
   "outputs": [],
   "source": [
    "window_size = max_len\n",
    "ns_num = 5\n",
    "\n",
    "x = []\n",
    "y = []\n",
    "for sequence in corpus:\n",
    "    tmp = [vocab[word] for word in sequence.split(',')]\n",
    "    skip_grams, labels = tf.keras.preprocessing.sequence.skipgrams(\n",
    "        tmp,\n",
    "        vocabulary_size=vocab_size,\n",
    "        window_size=window_size,\n",
    "        negative_samples=ns_num,\n",
    "        shuffle=True)\n",
    "    x.extend(skip_grams)\n",
    "    y.extend(labels)\n",
    "    \n",
    "x = np.array(x)\n",
    "target = x[:,0]\n",
    "context = x[:,1]\n",
    "y = np.array(y)\n",
    "y = np.expand_dims(y, axis=1)\n"
   ]
  },
  {
   "cell_type": "markdown",
   "metadata": {},
   "source": [
    "# 2. Word2vec 模型"
   ]
  },
  {
   "cell_type": "code",
   "execution_count": 14,
   "metadata": {},
   "outputs": [
    {
     "name": "stdout",
     "output_type": "stream",
     "text": [
      "Model: \"functional_1\"\n",
      "__________________________________________________________________________________________________\n",
      "Layer (type)                    Output Shape         Param #     Connected to                     \n",
      "==================================================================================================\n",
      "input_1 (InputLayer)            [(None, 1)]          0                                            \n",
      "__________________________________________________________________________________________________\n",
      "input_2 (InputLayer)            [(None, 1)]          0                                            \n",
      "__________________________________________________________________________________________________\n",
      "embedding (Embedding)           (None, 1, 32)        27392       input_1[0][0]                    \n",
      "                                                                 input_2[0][0]                    \n",
      "__________________________________________________________________________________________________\n",
      "dot (Dot)                       (None, 1, 1)         0           embedding[0][0]                  \n",
      "                                                                 embedding[1][0]                  \n",
      "__________________________________________________________________________________________________\n",
      "reshape (Reshape)               (None, 1)            0           dot[0][0]                        \n",
      "==================================================================================================\n",
      "Total params: 27,392\n",
      "Trainable params: 27,392\n",
      "Non-trainable params: 0\n",
      "__________________________________________________________________________________________________\n"
     ]
    }
   ],
   "source": [
    "dim_embedddings = 32\n",
    "\n",
    "# Inputs\n",
    "w_inputs = Input(shape=(1, ), dtype='int32')\n",
    "c_inputs = Input(shape=(1, ), dtype='int32')\n",
    "\n",
    "# Share Embedding Matrix\n",
    "embedding_matrix = Embedding(vocab_size, dim_embedddings)\n",
    "\n",
    "# target embedding\n",
    "w = embedding_matrix(w_inputs)\n",
    "# context embedding\n",
    "c  = embedding_matrix(c_inputs)\n",
    "\n",
    "# Dot Product of the two embeddings\n",
    "o = Dot(axes=2)([w, c])\n",
    "o = Reshape((1,), input_shape=(1, 1))(o)\n",
    "# o = Activation('sigmoid')(o)\n",
    "\n",
    "nba2vec = Model(inputs=[w_inputs, c_inputs], outputs=o)\n",
    "nba2vec.summary()\n",
    "nba2vec.compile(loss='binary_crossentropy', optimizer='adam', metrics=['accuracy'])\n",
    "tensorboard_callback = tf.keras.callbacks.TensorBoard(log_dir=\"logs\")"
   ]
  },
  {
   "cell_type": "markdown",
   "metadata": {},
   "source": [
    "### 模型訓練"
   ]
  },
  {
   "cell_type": "code",
   "execution_count": 15,
   "metadata": {
    "scrolled": true
   },
   "outputs": [
    {
     "name": "stdout",
     "output_type": "stream",
     "text": [
      "Epoch 1/50\n",
      "  1/248 [..............................] - ETA: 0s - loss: 1.4998 - accuracy: 0.8535"
     ]
    },
    {
     "name": "stderr",
     "output_type": "stream",
     "text": [
      "WARNING: Logging before flag parsing goes to stderr.\n",
      "W0115 14:55:56.845080 139661804726080 deprecation.py:323] From /home/q56084098/.local/lib/python3.6/site-packages/tensorflow/python/ops/summary_ops_v2.py:1277: stop (from tensorflow.python.eager.profiler) is deprecated and will be removed after 2020-07-01.\n",
      "Instructions for updating:\n",
      "use `tf.profiler.experimental.stop` instead.\n",
      "W0115 14:55:56.858765 139661804726080 callbacks.py:328] Callbacks method `on_train_batch_end` is slow compared to the batch time (batch time: 0.0043s vs `on_train_batch_end` time: 0.0147s). Check your callbacks.\n"
     ]
    },
    {
     "name": "stdout",
     "output_type": "stream",
     "text": [
      "248/248 [==============================] - 1s 4ms/step - loss: 1.5598 - accuracy: 0.8333\n",
      "Epoch 2/50\n",
      "248/248 [==============================] - 1s 4ms/step - loss: 1.0619 - accuracy: 0.8333\n",
      "Epoch 3/50\n",
      "248/248 [==============================] - 1s 3ms/step - loss: 0.8021 - accuracy: 0.8333\n",
      "Epoch 4/50\n",
      "248/248 [==============================] - 1s 4ms/step - loss: 0.6551 - accuracy: 0.8333\n",
      "Epoch 5/50\n",
      "248/248 [==============================] - 1s 4ms/step - loss: 0.5720 - accuracy: 0.8333\n",
      "Epoch 6/50\n",
      "248/248 [==============================] - 1s 4ms/step - loss: 0.5135 - accuracy: 0.8334\n",
      "Epoch 7/50\n",
      "248/248 [==============================] - 1s 4ms/step - loss: 0.4672 - accuracy: 0.8335\n",
      "Epoch 8/50\n",
      "248/248 [==============================] - 1s 4ms/step - loss: 0.4305 - accuracy: 0.8340\n",
      "Epoch 9/50\n",
      "248/248 [==============================] - 1s 4ms/step - loss: 0.4014 - accuracy: 0.8347\n",
      "Epoch 10/50\n",
      "248/248 [==============================] - 1s 4ms/step - loss: 0.3776 - accuracy: 0.8362\n",
      "Epoch 11/50\n",
      "248/248 [==============================] - 1s 4ms/step - loss: 0.3572 - accuracy: 0.8381\n",
      "Epoch 12/50\n",
      "248/248 [==============================] - 1s 3ms/step - loss: 0.3394 - accuracy: 0.8407\n",
      "Epoch 13/50\n",
      "248/248 [==============================] - 1s 4ms/step - loss: 0.3233 - accuracy: 0.8434\n",
      "Epoch 14/50\n",
      "248/248 [==============================] - 1s 3ms/step - loss: 0.3085 - accuracy: 0.8465\n",
      "Epoch 15/50\n",
      "248/248 [==============================] - 1s 4ms/step - loss: 0.2952 - accuracy: 0.8500\n",
      "Epoch 16/50\n",
      "248/248 [==============================] - 1s 3ms/step - loss: 0.2830 - accuracy: 0.8542\n",
      "Epoch 17/50\n",
      "248/248 [==============================] - 1s 3ms/step - loss: 0.2714 - accuracy: 0.8585\n",
      "Epoch 18/50\n",
      "248/248 [==============================] - 1s 3ms/step - loss: 0.2611 - accuracy: 0.8635\n",
      "Epoch 19/50\n",
      "248/248 [==============================] - 1s 4ms/step - loss: 0.2514 - accuracy: 0.8681\n",
      "Epoch 20/50\n",
      "248/248 [==============================] - 1s 4ms/step - loss: 0.2423 - accuracy: 0.8728\n",
      "Epoch 21/50\n",
      "248/248 [==============================] - 1s 3ms/step - loss: 0.2342 - accuracy: 0.8775\n",
      "Epoch 22/50\n",
      "248/248 [==============================] - 1s 4ms/step - loss: 0.2264 - accuracy: 0.8825\n",
      "Epoch 23/50\n",
      "248/248 [==============================] - 1s 3ms/step - loss: 0.2196 - accuracy: 0.8867\n",
      "Epoch 24/50\n",
      "248/248 [==============================] - 1s 4ms/step - loss: 0.2136 - accuracy: 0.8907\n",
      "Epoch 25/50\n",
      "248/248 [==============================] - 1s 4ms/step - loss: 0.2080 - accuracy: 0.8943\n",
      "Epoch 26/50\n",
      "248/248 [==============================] - 1s 4ms/step - loss: 0.2026 - accuracy: 0.8983\n",
      "Epoch 27/50\n",
      "248/248 [==============================] - 1s 3ms/step - loss: 0.1975 - accuracy: 0.9015\n",
      "Epoch 28/50\n",
      "248/248 [==============================] - 1s 3ms/step - loss: 0.1928 - accuracy: 0.9050\n",
      "Epoch 29/50\n",
      "248/248 [==============================] - 1s 4ms/step - loss: 0.1887 - accuracy: 0.9082\n",
      "Epoch 30/50\n",
      "248/248 [==============================] - 1s 3ms/step - loss: 0.1849 - accuracy: 0.9111\n",
      "Epoch 31/50\n",
      "248/248 [==============================] - 1s 3ms/step - loss: 0.1816 - accuracy: 0.9137\n",
      "Epoch 32/50\n",
      "248/248 [==============================] - 1s 4ms/step - loss: 0.1784 - accuracy: 0.9163\n",
      "Epoch 33/50\n",
      "248/248 [==============================] - 1s 4ms/step - loss: 0.1755 - accuracy: 0.9187\n",
      "Epoch 34/50\n",
      "248/248 [==============================] - 1s 3ms/step - loss: 0.1730 - accuracy: 0.9207\n",
      "Epoch 35/50\n",
      "248/248 [==============================] - 1s 4ms/step - loss: 0.1705 - accuracy: 0.9226\n",
      "Epoch 36/50\n",
      "248/248 [==============================] - 1s 3ms/step - loss: 0.1681 - accuracy: 0.9247\n",
      "Epoch 37/50\n",
      "248/248 [==============================] - 1s 3ms/step - loss: 0.1661 - accuracy: 0.9264\n",
      "Epoch 38/50\n",
      "248/248 [==============================] - 1s 3ms/step - loss: 0.1642 - accuracy: 0.9277\n",
      "Epoch 39/50\n",
      "248/248 [==============================] - 1s 4ms/step - loss: 0.1627 - accuracy: 0.9293\n",
      "Epoch 40/50\n",
      "248/248 [==============================] - 1s 3ms/step - loss: 0.1611 - accuracy: 0.9306\n",
      "Epoch 41/50\n",
      "248/248 [==============================] - 1s 3ms/step - loss: 0.1599 - accuracy: 0.9315\n",
      "Epoch 42/50\n",
      "248/248 [==============================] - 1s 4ms/step - loss: 0.1586 - accuracy: 0.9326\n",
      "Epoch 43/50\n",
      "248/248 [==============================] - 1s 4ms/step - loss: 0.1575 - accuracy: 0.9335\n",
      "Epoch 44/50\n",
      "248/248 [==============================] - 1s 3ms/step - loss: 0.1565 - accuracy: 0.9341\n",
      "Epoch 45/50\n",
      "248/248 [==============================] - 1s 2ms/step - loss: 0.1555 - accuracy: 0.9349\n",
      "Epoch 46/50\n",
      "248/248 [==============================] - 1s 2ms/step - loss: 0.1547 - accuracy: 0.9356\n",
      "Epoch 47/50\n",
      "248/248 [==============================] - 1s 2ms/step - loss: 0.1540 - accuracy: 0.9362\n",
      "Epoch 48/50\n",
      "248/248 [==============================] - 1s 3ms/step - loss: 0.1533 - accuracy: 0.9371\n",
      "Epoch 49/50\n",
      "248/248 [==============================] - 1s 3ms/step - loss: 0.1525 - accuracy: 0.9374\n",
      "Epoch 50/50\n",
      "248/248 [==============================] - 1s 3ms/step - loss: 0.1521 - accuracy: 0.9378\n"
     ]
    }
   ],
   "source": [
    "h = nba2vec.fit(x=[target, context], y=y, epochs=50, callbacks=[tensorboard_callback], batch_size=1024)"
   ]
  },
  {
   "cell_type": "code",
   "execution_count": 16,
   "metadata": {},
   "outputs": [
    {
     "data": {
      "image/png": "[encoded data removed]",
      "text/plain": [
       "<Figure size 432x288 with 1 Axes>"
      ]
     },
     "metadata": {
      "needs_background": "light"
     },
     "output_type": "display_data"
    }
   ],
   "source": [
    "plt.plot(h.history['loss'], label='loss')\n",
    "plt.plot(h.history['accuracy'], label='acc')\n",
    "plt.legend(loc='upper right')\n",
    "plt.show()"
   ]
  },
  {
   "cell_type": "code",
   "execution_count": 17,
   "metadata": {},
   "outputs": [],
   "source": [
    "# %load_ext tensorboard\n",
    "# %tensorboard --logdir logs"
   ]
  },
  {
   "cell_type": "markdown",
   "metadata": {},
   "source": [
    "### 構建一個從 球員姓名 至 Embedding 的映射"
   ]
  },
  {
   "cell_type": "code",
   "execution_count": 18,
   "metadata": {},
   "outputs": [],
   "source": [
    "vocab_to_emb = {}\n",
    "vectors = nba2vec.get_weights()[0]\n",
    "for word, i in vocab.items():\n",
    "    vocab_to_emb[word] = vectors[i, :]"
   ]
  },
  {
   "cell_type": "markdown",
   "metadata": {},
   "source": [
    "# 3. 實驗 Embedding 的品質"
   ]
  },
  {
   "cell_type": "markdown",
   "metadata": {},
   "source": [
    "- 建構一個從 球員姓名 至 球員Embedding 的映射"
   ]
  },
  {
   "cell_type": "code",
   "execution_count": 19,
   "metadata": {},
   "outputs": [],
   "source": [
    "vocab_to_emb = {}\n",
    "vectors = nba2vec.get_weights()[0]\n",
    "for word, i in vocab.items():\n",
    "    vocab_to_emb[word] = vectors[i, :]"
   ]
  },
  {
   "cell_type": "markdown",
   "metadata": {},
   "source": [
    "保存訓練好的 Embedding，分為:\n",
    "1. metadata.tsv : 每一列為球員姓名\n",
    "2. vectors.tsv : 每一列為一個球員的 Embedding\n",
    "\n",
    "### 這兩個檔案後續可以上傳至 Embedding Projector 網站，進行線上手動分析\n",
    " https://projector.tensorflow.org/ "
   ]
  },
  {
   "cell_type": "code",
   "execution_count": 20,
   "metadata": {},
   "outputs": [],
   "source": [
    "out_v = io.open('player_vectors.tsv', 'w', encoding='utf-8')\n",
    "out_m = io.open('player_metadata.tsv', 'w', encoding='utf-8')\n",
    "\n",
    "for index, word in enumerate(vocab):\n",
    "    if  index == 0: continue # skip 0, it's padding.\n",
    "    vec = vectors[index] \n",
    "    out_v.write('\\t'.join([str(x) for x in vec]) + \"\\n\")\n",
    "    out_m.write(word + \"\\n\")\n",
    "    \n",
    "out_v.close()\n",
    "out_m.close()"
   ]
  },
  {
   "cell_type": "markdown",
   "metadata": {},
   "source": [
    "### 隨意選出幾個球星，計算其相似度，是否有體現出隊友相似度高、非隊友相似度低"
   ]
  },
  {
   "cell_type": "code",
   "execution_count": 21,
   "metadata": {},
   "outputs": [],
   "source": [
    "from scipy.spatial.distance import cosine\n",
    "\n",
    "def cos_sim(a, b):\n",
    "    return 1 - cosine(a, b)\n",
    "\n",
    "def print_sim(playerA='', playerB=''):\n",
    "    print('Cosine similarity of {} to {} is: {}'.format(playerA, \n",
    "                                                        playerB, \n",
    "                                                        cos_sim(vocab_to_emb[playerA], vocab_to_emb[playerB])))"
   ]
  },
  {
   "cell_type": "code",
   "execution_count": 25,
   "metadata": {
    "scrolled": true
   },
   "outputs": [
    {
     "name": "stdout",
     "output_type": "stream",
     "text": [
      "Cosine similarity of LeBron James to Stephen Curry is: -0.06379831582307816\n",
      "Cosine similarity of LeBron James to Derrick Rose is: 0.2705168128013611\n",
      "Cosine similarity of LeBron James to Anthony Davis is: 0.42189159989356995\n",
      "Cosine similarity of LeBron James to Kyle Kuzma is: 0.7576419115066528\n",
      "Cosine similarity of LeBron James to Kawhi Leonard is: -0.03167477995157242\n",
      "Cosine similarity of LeBron James to Kevin Durant is: 0.16373300552368164\n",
      "Cosine similarity of Stephen Curry to Kevin Durant is: 0.5692143440246582\n",
      "Cosine similarity of Stephen Curry to Klay Thompson is: 0.8193364143371582\n"
     ]
    }
   ],
   "source": [
    "print_sim('LeBron James', 'Stephen Curry')\n",
    "print_sim('LeBron James', 'Derrick Rose')\n",
    "print_sim('LeBron James', 'Anthony Davis')\n",
    "print_sim('LeBron James', 'Kyle Kuzma')\n",
    "print_sim('LeBron James', 'Kawhi Leonard')\n",
    "print_sim('LeBron James', 'Kevin Durant')\n",
    "print_sim('Stephen Curry', 'Kevin Durant')\n",
    "print_sim('Stephen Curry', 'Klay Thompson')"
   ]
  },
  {
   "cell_type": "markdown",
   "metadata": {},
   "source": [
    "### 計算出 30 個球隊的 Embedding，觀察哪些球隊比較相近"
   ]
  },
  {
   "cell_type": "markdown",
   "metadata": {},
   "source": [
    "整理資料，將四年內，每一支球隊曾經有擁有過的球員放在一起"
   ]
  },
  {
   "cell_type": "markdown",
   "metadata": {},
   "source": [
    "先找出總共有哪些球隊"
   ]
  },
  {
   "cell_type": "code",
   "execution_count": 58,
   "metadata": {},
   "outputs": [
    {
     "name": "stdout",
     "output_type": "stream",
     "text": [
      "dict_keys(['Min', 'Orl', 'Dal', 'Hou', 'Bos', 'Ind', 'Pho', 'Uta', 'Okc', 'Lal', 'Por', 'Tor', 'Bro', 'Phi', 'Det', 'Gol', 'Mem', 'Atl', 'Cle', 'Nor', 'Chi', 'Lac', 'Mia', 'Sac', 'Was', 'Mil', 'San', 'Cha', 'Nyk', 'Den'])\n"
     ]
    }
   ],
   "source": [
    "team_dict = {}\n",
    "for team in team_member_df['team'].unique():\n",
    "    team = team[3:]\n",
    "    if team not in team_dict:\n",
    "        team_dict[team] = []\n",
    "\n",
    "print(team_dict.keys())"
   ]
  },
  {
   "cell_type": "markdown",
   "metadata": {},
   "source": [
    "把四年內所有出現過的球員都存進該球隊的 dict 中，並刪除重複項目"
   ]
  },
  {
   "cell_type": "code",
   "execution_count": 60,
   "metadata": {},
   "outputs": [],
   "source": [
    "for index, row in team_member_df.iterrows():\n",
    "    members = row['members'].split(',')\n",
    "    team_dict[row['team'][3:]].extend(members)\n",
    "    \n",
    "for key, item in team_dict.items():\n",
    "    item = list(dict.fromkeys(item))\n",
    "    team_dict[key] = item"
   ]
  },
  {
   "cell_type": "markdown",
   "metadata": {},
   "source": [
    "隨意顯示一隻球隊，此處以湖人隊為例，四年內總共有 57 位球員待過"
   ]
  },
  {
   "cell_type": "code",
   "execution_count": 61,
   "metadata": {},
   "outputs": [
    {
     "name": "stdout",
     "output_type": "stream",
     "text": [
      "57\n",
      "['Alex Caruso', 'Andre Ingram', 'Andrew Bogut', 'Brandon Ingram', 'Brook Lopez', 'Channing Frye', 'Corey Brewer', 'Derrick Williams', 'Gary Payton II', 'Isaiah Thomas', 'Ivica Zubac', 'Jordan Clarkson', 'Josh Hart', 'Julius Randle', 'Kentavious Caldwell-Pope', 'Kyle Kuzma', 'Larry Nance Jr.', 'Lonzo Ball', 'Luol Deng', 'Nigel Hayes', 'Thomas Bryant', 'Travis Wear', 'Tyler Ennis', 'Vander Blue', 'Michael Beasley', 'Isaac Bonga', 'Reggie Bullock', 'Tyson Chandler', 'LeBron James', 'Jemerrio Jones', 'Scott Machado', 'JaVale McGee', 'Mike Muscala', 'Svi Mykhailiuk', 'Rajon Rondo', 'Lance Stephenson', 'Moritz Wagner', 'Johnathan Williams', 'Kostas Antetokounmpo', 'Avery Bradley', 'Devontae Cacok', 'Quinn Cook', 'Troy Daniels', 'Anthony Davis', 'Jared Dudley', 'Danny Green', 'Talen Horton-Tucker', 'Dwight Howard', 'Markieff Morris', 'Zach Norvell Jr.', 'JR Smith', 'Dion Waiters', 'Marc Gasol', 'Montrezl Harrell', 'Dennis Schroder', 'Wesley Matthews', 'Alfonzo McKinnie']\n"
     ]
    }
   ],
   "source": [
    "print(len(team_dict['Lal']))\n",
    "print(team_dict['Lal'])"
   ]
  },
  {
   "cell_type": "markdown",
   "metadata": {},
   "source": [
    "### 將每支球隊中所有球員 Embedding 平均，得到球隊 Embedding"
   ]
  },
  {
   "cell_type": "code",
   "execution_count": 83,
   "metadata": {},
   "outputs": [],
   "source": [
    "def avg_sentence_vector(sequence, vocab_to_emb, dim_embedddings):\n",
    "    featureVec = np.zeros((dim_embedddings,), dtype=\"float32\")\n",
    "    nwords = 0\n",
    "    for player in sequence:\n",
    "        if player in vocab_to_emb.keys():\n",
    "            featureVec = np.add(featureVec, vocab_to_emb[player])\n",
    "\n",
    "    return featureVec / len(sequence)\n",
    "\n",
    "\n",
    "every_team_emb = {}\n",
    "for key, item in team_dict.items():\n",
    "    emb = avg_sentence_vector(team_dict[key], vocab_to_emb, dim_embedddings)\n",
    "    every_team_emb[key] = emb"
   ]
  },
  {
   "cell_type": "code",
   "execution_count": 86,
   "metadata": {},
   "outputs": [],
   "source": [
    "out_v = io.open('team_vectors.tsv', 'w', encoding='utf-8')\n",
    "out_m = io.open('team_metadata.tsv', 'w', encoding='utf-8')\n",
    "\n",
    "\n",
    "for key, vec in every_team_emb.items():\n",
    "    out_v.write('\\t'.join([str(x) for x in vec]) + \"\\n\")\n",
    "    out_m.write(key + \"\\n\")\n",
    "    \n",
    "out_v.close()\n",
    "out_m.close()"
   ]
  }
 ],
 "metadata": {
  "kernelspec": {
   "display_name": "Python 3",
   "language": "python",
   "name": "python3"
  },
  "language_info": {
   "codemirror_mode": {
    "name": "ipython",
    "version": 3
   },
   "file_extension": ".py",
   "mimetype": "text/x-python",
   "name": "python",
   "nbconvert_exporter": "python",
   "pygments_lexer": "ipython3",
   "version": "3.6.9"
  }
 },
 "nbformat": 4,
 "nbformat_minor": 2
}
