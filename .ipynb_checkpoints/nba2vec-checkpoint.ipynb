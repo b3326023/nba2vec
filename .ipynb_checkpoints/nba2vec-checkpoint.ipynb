{
 "cells": [
  {
   "cell_type": "code",
   "execution_count": 48,
   "metadata": {},
   "outputs": [],
   "source": [
    "# from gensim.models import word2vec\n",
    "import pandas as pd\n",
    "import numpy as np\n",
    "\n",
    "import io\n",
    "import itertools\n",
    "import numpy as np\n",
    "import os\n",
    "import re\n",
    "import string\n",
    "import tensorflow as tf\n",
    "import tqdm\n",
    "\n",
    "from tensorflow.keras import Model, Sequential\n",
    "from tensorflow.keras.layers import Activation, Dense, Dot, Embedding, Flatten, GlobalAveragePooling1D, Reshape\n",
    "from tensorflow.keras.layers.experimental.preprocessing import TextVectorization"
   ]
  },
  {
   "cell_type": "markdown",
   "metadata": {},
   "source": [
    "# 資料前處理\n",
    "目標是把四年度的球員隊伍名單整理成一個文字檔案，每一行代表 某年度某一隊的陣容名單"
   ]
  },
  {
   "cell_type": "code",
   "execution_count": 2,
   "metadata": {},
   "outputs": [],
   "source": [
    "# 用來存整理好的陣容名單 [{'哪一年哪一隊': 球員名單list}, ...]\n",
    "team_member = []"
   ]
  },
  {
   "cell_type": "markdown",
   "metadata": {},
   "source": [
    "### 讀取 NBA 球員資料"
   ]
  },
  {
   "cell_type": "code",
   "execution_count": 3,
   "metadata": {},
   "outputs": [],
   "source": [
    "data_dir = \"nba_data/\""
   ]
  },
  {
   "cell_type": "markdown",
   "metadata": {},
   "source": [
    "NBA 2017 ~ 2018"
   ]
  },
  {
   "cell_type": "code",
   "execution_count": 4,
   "metadata": {},
   "outputs": [],
   "source": [
    "df = pd.read_csv(data_dir+\"17-18.csv\", header=0)\n",
    "# 依據隊伍，把每個球員讀出成一個 list，存起來\n",
    "for team in df['TEAM'].unique():\n",
    "    team_member.append({'team': '17_'+team, 'members': ','.join(df[df['TEAM'] == team]['FULL NAME'].values)})"
   ]
  },
  {
   "cell_type": "markdown",
   "metadata": {},
   "source": [
    "NBA 2018 ~ 2019"
   ]
  },
  {
   "cell_type": "code",
   "execution_count": 5,
   "metadata": {},
   "outputs": [],
   "source": [
    "df = pd.read_csv(data_dir+\"18-19.csv\", header=0)\n",
    "# 依據隊伍，把每個球員讀出成一個 list，存起來\n",
    "for team in df['TEAM'].unique():\n",
    "    team_member.append({'team': '18_'+team, 'members': ','.join(df[df['TEAM'] == team]['FULL NAME'].values)})"
   ]
  },
  {
   "cell_type": "markdown",
   "metadata": {},
   "source": [
    "NBA 2019 ~ 2020"
   ]
  },
  {
   "cell_type": "code",
   "execution_count": 6,
   "metadata": {},
   "outputs": [],
   "source": [
    "df = pd.read_csv(data_dir+\"19-20.csv\", header=0)\n",
    "# 依據隊伍，把每個球員讀出成一個 list，存起來\n",
    "for team in df['TEAM'].unique():\n",
    "    team_member.append({'team': '19_'+team, 'members': ','.join(df[df['TEAM'] == team]['FULL NAME'].values)})"
   ]
  },
  {
   "cell_type": "markdown",
   "metadata": {},
   "source": [
    "NBA 2020 ~ 2021"
   ]
  },
  {
   "cell_type": "code",
   "execution_count": 7,
   "metadata": {},
   "outputs": [],
   "source": [
    "df = pd.read_csv(data_dir+\"20-21.csv\", header=0)\n",
    "# 依據隊伍，把每個球員讀出成一個 list，存起來\n",
    "for team in df['TEAM'].unique():\n",
    "    team_member.append({'team': '20_'+team, 'members': ','.join(df[df['TEAM'] == team]['FULL NAME'].values)})"
   ]
  },
  {
   "cell_type": "code",
   "execution_count": 8,
   "metadata": {},
   "outputs": [],
   "source": [
    "# List 轉為 DataFrame\n",
    "team_member_df = pd.DataFrame(team_member, columns=['team', 'members'])"
   ]
  },
  {
   "cell_type": "code",
   "execution_count": 9,
   "metadata": {},
   "outputs": [
    {
     "data": {
      "text/plain": [
       "[{'team': '17_Min',\n",
       "  'members': 'Aaron Brooks,Andrew Wiggins,Anthony Brown,Cole Aldrich,Derrick Rose,Gorgui Dieng,Jamal Crawford,Jeff Teague,Jimmy Butler,Justin Patton,Karl-Anthony Towns,Marcus Georges-Hunt,Nemanja Bjelica,Shabazz Muhammad,Taj Gibson,Tyus Jones'},\n",
       " {'team': '17_Orl',\n",
       "  'members': 'Aaron Gordon,Adreian Payne,Arron Afflalo,Bismack Biyombo,D.J. Augustin,Elfrid Payton,Evan Fournier,Jamel Artis,Jonathan Isaac,Jonathon Simmons,Khem Birch,Mario Hezonja,Marreese Speights,Nikola Vucevic,Rashad Vaughn,Rodney Purvis,Shelvin Mack,Terrence Ross,Wes Iwundu'},\n",
       " {'team': '17_Dal',\n",
       "  'members': 'Aaron Harrison,Antonius Cleveland,Dennis Smith Jr.,Devin Harris,Dirk Nowitzki,Dorian Finney-Smith,Doug McDermott,Dwight Powell,Gian Clavell,Harrison Barnes,J.J. Barea,Jalen Jones,Jameel Warney,Jeff Withey,Johnathan Motley,Josh McRoberts,Kyle Collinsworth,Maxi Kleber,Nerlens Noel,Salah Mejri,Scotty Hopson,Wesley Matthews,Yogi Ferrell'},\n",
       " {'team': '17_Hou',\n",
       "  'members': 'Aaron Jackson,Bobby Brown,Brandan Wright,Briante Weber,Chinanu Onuaku,Chris Paul,Clint Capela,Demetrius Jackson,Eric Gordon,Gerald Green,Isaiah Canaan,James Harden,Joe Johnson,Luc Mbah a Moute,Markel Brown,Nene,PJ Tucker,RJ Hunter,Ryan Anderson,Tarik Black,Tim Quarterman,Trevor Ariza,Troy Williams,Zhou Qi'},\n",
       " {'team': '17_Bos',\n",
       "  'members': 'Abdel Nader,Al Horford,Aron Baynes,Daniel Theis,Gordon Hayward,Greg Monroe,Guerschon Yabusele,Jabari Bird,Jarell Eddie,Jaylen Brown,Jayson Tatum,Jonathan Gibson,Kadeem Allen,Kyrie Irving,Marcus Morris,Marcus Smart,Semi Ojeleye,Shane Larkin,Terry Rozier,Xavier Silas'},\n",
       " {'team': '17_Ind',\n",
       "  'members': 'Al Jefferson,Alex Poythress,Ben Moore,Bojan Bogdanovic,Cory Joseph,Damien Wilkins,Darren Collison,Domantas Sabonis,Edmond Sumner,Glenn Robinson III,Ike Anigbogu,Joe Young,Lance Stephenson,Myles Turner,Thaddeus Young,TJ Leaf,Trevor Booker,Trey McKinney-Jones,Victor Oladipo'},\n",
       " {'team': '17_Pho',\n",
       "  'members': 'Alan Williams,Alec Peters,Alex Len,Danuel House,Davon Reed,Derrick Jones Jr.,Devin Booker,Dragan Bender,Elfrid Payton,Eric Bledsoe,Greg Monroe,Isaiah Canaan,Jared Dudley,Josh Gray,Josh Jackson,Marquese Chriss,Mike James,Shaquille Harrison,TJ Warren,Troy Daniels,Tyler Ulis,Tyson Chandler'},\n",
       " {'team': '17_Uta',\n",
       "  'members': \"Alec Burks,Dante Exum,David Stockton,Derrick Favors,Donovan Mitchell,Ekpe Udoh,Erik McCree,Georges Niang,Jae Crowder,Joe Ingles,Joe Johnson,Jonas Jerebko,Nate Wolters,Naz Mitrou-Long,Raul Neto,Ricky Rubio,Rodney Hood,Royce O'Neale,Rudy Gobert,Thabo Sefolosha,Tony Bradley\"},\n",
       " {'team': '17_Okc',\n",
       "  'members': 'Alex Abrines,Andre Roberson,Carmelo Anthony,Corey Brewer,Dakari Johnson,Daniel Hamilton,Jerami Grant,Josh Huestis,Kyle Singler,Nick Collison,Patrick Patterson,Paul George,PJ Dozier,Raymond Felton,Russell Westbrook,Steven Adams,Terrance Ferguson'},\n",
       " {'team': '17_Lal',\n",
       "  'members': 'Alex Caruso,Andre Ingram,Andrew Bogut,Brandon Ingram,Brook Lopez,Channing Frye,Corey Brewer,Derrick Williams,Gary Payton II,Isaiah Thomas,Ivica Zubac,Jordan Clarkson,Josh Hart,Julius Randle,Kentavious Caldwell-Pope,Kyle Kuzma,Larry Nance Jr.,Lonzo Ball,Luol Deng,Nigel Hayes,Thomas Bryant,Travis Wear,Tyler Ennis,Vander Blue'},\n",
       " {'team': '17_Por',\n",
       "  'members': 'Al-Farouq Aminu,Caleb Swanigan,CJ McCollum,Damian Lillard,Ed Davis,Evan Turner,Georgios Papagiannis,Jake Layman,Jusuf Nurkic,Maurice Harkless,Meyers Leonard,Noah Vonleh,Pat Connaughton,Shabazz Napier,Wade Baldwin IV,Zach Collins'},\n",
       " {'team': '17_Tor',\n",
       "  'members': 'Alfonzo McKinnie,Bruno Caboclo,CJ Miles,Delon Wright,DeMar DeRozan,Fred VanVleet,Jakob Poeltl,Jonas Valanciunas,Kyle Lowry,Lorenzo Brown,Lucas Nogueira,Malachi Richardson,Malcolm Miller,Nigel Hayes,Norman Powell,OG Anunoby,Pascal Siakam,Serge Ibaka'},\n",
       " {'team': '17_Bro',\n",
       "  'members': \"Allen Crabbe,Caris LeVert,D'Angelo Russell,Dante Cunningham,DeMarre Carroll,Isaiah Whitehead,Jacob Wiley,Jahlil Okafor,James Webb III,Jarrett Allen,Jeremy Lin,Joe Harris,Milton Doyle,Nik Stauskas,Quincy Acy,Rashad Vaughn,Rondae Hollis-Jefferson,Sean Kilpatrick,Spencer Dinwiddie,Timofey Mozgov,Trevor Booker,Tyler Zeller\"},\n",
       " {'team': '17_Phi',\n",
       "  'members': 'Amir Johnson,Ben Simmons,Dario Saric,Demetrius Jackson,Ersan Ilyasova,Furkan Korkmaz,Jacob Pullen,Jahlil Okafor,James Michael McAdoo,James Young,Jerryd Bayless,JJ Redick,Joel Embiid,Justin Anderson,Larry Drew II,Marco Belinelli,Markelle Fultz,Nik Stauskas,Richaun Holmes,Robert Covington,T.J. McConnell,Timothe Luwawu-Cabarrot,Trevor Booker'},\n",
       " {'team': '17_Det',\n",
       "  'members': 'Andre Drummond,Anthony Tolliver,Avery Bradley,Blake Griffin,Boban Marjanovic,Dwight Buycks,Eric Moreland,Henry Ellenson,Ish Smith,Jameer Nelson,James Ennis III,Jon Leuer,Kay Felder,Langston Galloway,Luis Montero,Luke Kennard,Reggie Bullock,Reggie Hearn,Reggie Jackson,Stanley Johnson,Tobias Harris,Willie Reed'},\n",
       " {'team': '17_Gol',\n",
       "  'members': 'Andre Iguodala,Chris Boucher,Damian Jones,David West,Draymond Green,JaVale McGee,Jordan Bell,Kevin Durant,Kevon Looney,Klay Thompson,Nick Young,Omri Casspi,Patrick McCaw,Quinn Cook,Shaun Livingston,Stephen Curry,Zaza Pachulia'},\n",
       " {'team': '17_Mem',\n",
       "  'members': 'Andrew Harrison,Ben McLemore,Brandan Wright,Briante Weber,Brice Johnson,Chandler Parsons,Deyonta Davis,Dillon Brooks,Ivan Rabb,James Ennis III,JaMychal Green,Jarell Martin,Kobi Simmons,Marc Gasol,Mario Chalmers,Marquis Teague,MarShon Brooks,Mike Conley,Myke Henry,Omari Johnson,Tyreke Evans,Vincent Hunter,Wayne Selden,Xavier Rathan-Mayes'},\n",
       " {'team': '17_Atl',\n",
       "  'members': \"Andrew White III,Antonius Cleveland,Damion Lee,DeAndre' Bembry,Dennis Schroder,Dewayne Dedmon,Ersan Ilyasova,Isaiah Taylor,Jaylen Morris,Jeremy Evans,John Collins,Josh Magette,Kent Bazemore,Luke Babbitt,Malcolm Delaney,Marco Belinelli,Mike Muscala,Miles Plumlee,Nicolas Brussino,Taurean Prince,Tyler Cavanaugh,Tyler Dorsey\"},\n",
       " {'team': '17_Cle',\n",
       "  'members': 'Ante Zizic,Cedi Osman,Channing Frye,Derrick Rose,Dwyane Wade,George Hill,Iman Shumpert,Isaiah Thomas,Jae Crowder,Jeff Green,John Holland,Jordan Clarkson,Jose Calderon,JR Smith,Kendrick Perkins,Kevin Love,Kyle Korver,Larry Nance Jr.,LeBron James,London Perrantes,Rodney Hood,Tristan Thompson'},\n",
       " {'team': '17_Nor',\n",
       "  'members': \"Anthony Davis,Charles Cooke,Cheick Diallo,Dante Cunningham,Darius Miller,DeAndre Liggins,DeMarcus Cousins,Emeka Okafor,E'Twaun Moore,Ian Clark,Jalen Jones,Jameer Nelson,Jordan Crawford,Josh Smith,Jrue Holiday,Larry Drew II,Mike James,Nikola Mirotic,Omer Asik,Rajon Rondo,Solomon Hill,Tony Allen,Walter Lemon Jr.\"},\n",
       " {'team': '17_Chi',\n",
       "  'members': 'Antonio Blakeney,Bobby Portis,Cameron Payne,Cristiano Felicio,David Nwaba,Denzel Valentine,Jarell Eddie,Jerian Grant,Justin Holiday,Kay Felder,Kris Dunn,Lauri Markkanen,Nikola Mirotic,Noah Vonleh,Omer Asik,Paul Zipser,Quincy Pondexter,Robin Lopez,Ryan Arcidiacono,Sean Kilpatrick,Zach LaVine'},\n",
       " {'team': '17_Lac',\n",
       "  'members': 'Austin Rivers,Avery Bradley,Blake Griffin,Boban Marjanovic,Brice Johnson,C.J. Williams,Danilo Gallinari,DeAndre Jordan,Jamil Wilson,Jawun Evans,Lou Williams,Milos Teodosic,Montrezl Harrell,Patrick Beverley,Sam Dekker,Sean Kilpatrick,Sindarius Thornwell,Tobias Harris,Tyrone Wallace,Wesley Johnson,Willie Reed'},\n",
       " {'team': '17_Mia',\n",
       "  'members': 'Bam Adebayo,Derrick Jones Jr.,Derrick Walton Jr.,Dion Waiters,Dwyane Wade,Goran Dragic,Hassan Whiteside,James Johnson,Jordan Mickey,Josh Richardson,Justise Winslow,Kelly Olynyk,Luke Babbitt,Matt Williams Jr.,Okaro White,Rodney McGruder,Tyler Johnson,Udonis Haslem,Wayne Ellington'},\n",
       " {'team': '17_Sac',\n",
       "  'members': \"Bogdan Bogdanovic,Bruno Caboclo,Buddy Hield,De'Aaron Fox,Frank Mason,Garrett Temple,George Hill,Georgios Papagiannis,Jack Cooley,JaKarr Sampson,Justin Jackson,Kosta Koufos,Malachi Richardson,Nigel Hayes,Skal Labissiere,Vince Carter,Willie Cauley-Stein,Zach Randolph\"},\n",
       " {'team': '17_Was',\n",
       "  'members': 'Bradley Beal,Chris McCullough,Devin Robinson,Ian Mahinmi,Jason Smith,Jodie Meeks,John Wall,Kelly Oubre Jr.,Marcin Gortat,Markieff Morris,Mike Scott,Otto Porter Jr.,Ramon Sessions,Tim Frazier,Tomas Satoransky'},\n",
       " {'team': '17_Mil',\n",
       "  'members': 'Brandon Jennings,D.J. Wilson,DeAndre Liggins,Eric Bledsoe,Gary Payton II,Giannis Antetokounmpo,Greg Monroe,Jabari Parker,Jason Terry,Joel Bolomboy,John Henson,Khris Middleton,Malcolm Brogdon,Marshall Plumlee,Matthew Dellavedova,Mirza Teletovic,Rashad Vaughn,Sean Kilpatrick,Shabazz Muhammad,Sterling Brown,Thon Maker,Tony Snell,Tyler Zeller,Xavier Munford'},\n",
       " {'team': '17_San',\n",
       "  'members': 'Brandon Paul,Bryn Forbes,Danny Green,Darrun Hilliard,Davis Bertans,Dejounte Murray,Derrick White,Joffrey Lauvergne,Kawhi Leonard,Kyle Anderson,LaMarcus Aldridge,Manu Ginobili,Matt Costello,Patty Mills,Pau Gasol,Rudy Gay,Tony Parker'},\n",
       " {'team': '17_Cha',\n",
       "  'members': \"Cody Zeller,Dwayne Bacon,Dwight Howard,Frank Kaminsky,Jeremy Lamb,Johnny O'Bryant III,Julyan Stone,Kemba Walker,Malik Monk,Mangok Mathiang,Marcus Paige,Marvin Williams,Michael Carter-Williams,Michael Kidd-Gilchrist,Nicolas Batum,Treveon Graham,Willy Hernangomez\"},\n",
       " {'team': '17_Nyk',\n",
       "  'members': \"Courtney Lee,Damyean Dotson,Doug McDermott,Emmanuel Mudiay,Enes Kanter,Frank Ntilikina,Isaiah Hicks,Jarrett Jack,Joakim Noah,Kristaps Porzingis,Kyle O'Quinn,Lance Thomas,Luke Kornet,Michael Beasley,Mindaugas Kuzminskas,Ramon Sessions,Ron Baker,Tim Hardaway Jr.,Trey Burke,Troy Williams,Willy Hernangomez\"},\n",
       " {'team': '17_Den',\n",
       "  'members': 'Darrell Arthur,Devin Harris,Emmanuel Mudiay,Gary Harris,Jamal Murray,Juancho Hernangomez,Kenneth Faried,Malik Beasley,Mason Plumlee,Monte Morris,Nikola Jokic,Paul Millsap,Richard Jefferson,Torrey Craig,Trey Lyles,Tyler Lydon,Will Barton,Wilson Chandler'},\n",
       " {'team': '18_Okc',\n",
       "  'members': 'Alex Abrines,Steven Adams,Deonte Burton,Tyler Davis,Hamidou Diallo,Jawun Evans,Raymond Felton,Terrance Ferguson,Paul George,Donte Grantham,Jerami Grant,Timothe Luwawu-Cabarrot,Markieff Morris,Abdel Nader,Nerlens Noel,Patrick Patterson,Dennis Schroder,Russell Westbrook'},\n",
       " {'team': '18_Pho',\n",
       "  'members': \"Quincy Acy,Ryan Anderson,Trevor Ariza,Deandre Ayton,Dragan Bender,Devin Booker,Mikal Bridges,Isaiah Canaan,Tyson Chandler,Jamal Crawford,Troy Daniels,Jawun Evans,Jimmer Fredette,Richaun Holmes,Josh Jackson,Tyler Johnson,George King,De'Anthony Melton,Eric Moreland,Elie Okobo,Kelly Oubre Jr.,Ray Spalding,Emanuel Terry,T.J. Warren\"},\n",
       " {'team': '18_Atl',\n",
       "  'members': \"Jaylen Adams,Justin Anderson,Kent Bazemore,DeAndre' Bembry,Vince Carter,John Collins,Deyonta Davis,Dewayne Dedmon,Tyler Dorsey,Daniel Hamilton,Kevin Huerter,Isaac Humphries,BJ Johnson,Alex Len,Jeremy Lin,Miles Plumlee,Alex Poythress,Taurean Prince,Jordan Sibert,Omari Spellman,Trae Young,Tyler Zeller\"},\n",
       " {'team': '18_Mia',\n",
       "  'members': 'Bam Adebayo,Ryan Anderson,Goran Dragic,Wayne Ellington,Udonis Haslem,James Johnson,Tyler Johnson,Derrick Jones Jr.,Yante Maten,Rodney McGruder,Kelly Olynyk,Josh Richardson,Duncan Robinson,Emanuel Terry,Dwyane Wade,Dion Waiters,Hassan Whiteside,Justise Winslow'},\n",
       " {'team': '18_Cle',\n",
       "  'members': 'Deng Adel,Jaron Blossomgame,Alec Burks,Marquese Chriss,Jordan Clarkson,Sam Dekker,Matthew Dellavedova,Channing Frye,Andrew Harrison,George Hill,John Holland,Rodney Hood,Jalen Jones,Brandon Knight,Kyle Korver,Kevin Love,Patrick McCaw,Larry Nance Jr.,David Nwaba,Cedi Osman,Cameron Payne,Collin Sexton,Kobi Simmons,JR Smith,Nik Stauskas,Tristan Thompson,Ante Zizic'},\n",
       " {'team': '18_Den',\n",
       "  'members': 'DeVaughn Akoon-Purcell,Will Barton,Malik Beasley,Torrey Craig,Brandon Goodwin,Gary Harris,Juancho Hernangomez,Nikola Jokic,Tyler Lydon,Trey Lyles,Paul Millsap,Monte Morris,Jamal Murray,Mason Plumlee,Isaiah Thomas,Jarred Vanderbilt,Thomas Welsh,Nick Young'},\n",
       " {'team': '18_San',\n",
       "  'members': 'LaMarcus Aldridge,Marco Belinelli,Davis Bertans,Dante Cunningham,DeMar DeRozan,Drew Eubanks,Bryn Forbes,Pau Gasol,Rudy Gay,Chimezie Metu,Patty Mills,Donatas Motiejunas,Jakob Poeltl,Quincy Pondexter,Lonnie Walker IV,Derrick White'},\n",
       " {'team': '18_Chi',\n",
       "  'members': 'Rawle Alkins,Ryan Arcidiacono,Antonio Blakeney,Wendell Carter Jr.,Kris Dunn,Cristiano Felicio,Shaquille Harrison,Justin Holiday,Chandler Hutchison,Zach LaVine,Walter Lemon Jr.,Robin Lopez,Timothe Luwawu-Cabarrot,Lauri Markkanen,Jabari Parker,Cameron Payne,Otto Porter Jr.,Bobby Portis,Brandon Sampson,JaKarr Sampson,Wayne Selden,Tyler Ulis'},\n",
       " {'team': '18_Uta',\n",
       "  'members': \"Grayson Allen,Tony Bradley,Alec Burks,Tyler Cavanaugh,Jae Crowder,Dante Exum,Derrick Favors,Rudy Gobert,Joe Ingles,Kyle Korver,Donovan Mitchell,Naz Mitrou-Long,Raul Neto,Georges Niang,Royce O'Neale,Ricky Rubio,Thabo Sefolosha,Ekpe Udoh\"},\n",
       " {'team': '18_Bro',\n",
       "  'members': \"Jarrett Allen,DeMarre Carroll,Allen Crabbe,Mitchell Creek,Ed Davis,Spencer Dinwiddie,Jared Dudley,Kenneth Faried,Treveon Graham,Joe Harris,Rondae Hollis-Jefferson,Rodions Kurucs,Caris LeVert,Tahjere McCall,Dzanan Musa,Shabazz Napier,Theo Pinson,D'Angelo Russell,Alan Williams\"},\n",
       " {'team': '18_Nyk',\n",
       "  'members': 'Kadeem Allen,Ron Baker,Trey Burke,Damyean Dotson,Henry Ellenson,Billy Garrett,Tim Hardaway Jr.,Mario Hezonja,Isaiah Hicks,John Jenkins,DeAndre Jordan,Enes Kanter,Kevin Knox,Luke Kornet,Courtney Lee,Wesley Matthews,Emmanuel Mudiay,Frank Ntilikina,Mitchell Robinson,Dennis Smith Jr.,Lance Thomas,Allonzo Trier,Noah Vonleh'},\n",
       " {'team': '18_Por',\n",
       "  'members': 'Al-Farouq Aminu,Wade Baldwin IV,Zach Collins,Seth Curry,Maurice Harkless,Rodney Hood,Enes Kanter,Skal Labissiere,Jake Layman,Meyers Leonard,Damian Lillard,CJ McCollum,Jusuf Nurkic,Anfernee Simons,Nik Stauskas,Caleb Swanigan,Gary Trent Jr.,Evan Turner'},\n",
       " {'team': '18_Mem',\n",
       "  'members': 'Kyle Anderson,Avery Bradley,Dillon Brooks,MarShon Brooks,Bruno Caboclo,Jevon Carter,Omri Casspi,Mike Conley,Tyler Dorsey,Marc Gasol,JaMychal Green,Dusty Hannahs,Andrew Harrison,Justin Holiday,Jaren Jackson Jr.,Shelvin Mack,CJ Miles,Joakim Noah,Chandler Parsons,Ivan Rabb,Wayne Selden,DJ Stephens,Garrett Temple,Jonas Valanciunas,Julian Washburn,Yuta Watanabe,Delon Wright,Tyler Zeller'},\n",
       " {'team': '18_Ind',\n",
       "  'members': \"Ike Anigbogu,Bojan Bogdanovic,Darren Collison,Tyreke Evans,Aaron Holiday,Alize Johnson,Cory Joseph,TJ Leaf,Wesley Matthews,Doug McDermott,Victor Oladipo,Kyle O'Quinn,Davon Reed,Domantas Sabonis,Edmond Sumner,Myles Turner,Thaddeus Young\"},\n",
       " {'team': '18_Mil',\n",
       "  'members': 'Giannis Antetokounmpo,Eric Bledsoe,Malcolm Brogdon,Sterling Brown,Isaiah Canaan,Bonzie Colson,Pat Connaughton,Matthew Dellavedova,Donte DiVincenzo,Trevon Duval,Tim Frazier,Pau Gasol,John Henson,George Hill,Ersan Ilyasova,Brook Lopez,Thon Maker,Khris Middleton,Nikola Mirotic,Jaylen Morris,Jason Smith,Tony Snell,D.J. Wilson,Christian Wood'},\n",
       " {'team': '18_Dal',\n",
       "  'members': 'Kostas Antetokounmpo,J.J. Barea,Harrison Barnes,Ryan Broekhoff,Jalen Brunson,Trey Burke,Luka Doncic,Dorian Finney-Smith,Tim Hardaway Jr.,Devin Harris,Justin Jackson,DeAndre Jordan,Maxi Kleber,Courtney Lee,Daryl Macon,Wesley Matthews,Salah Mejri,Dirk Nowitzki,Dwight Powell,Dennis Smith Jr.,Ray Spalding'},\n",
       " {'team': '18_Hou',\n",
       "  'members': 'Carmelo Anthony,Clint Capela,Michael Carter-Williams,Chris Chiozza,Marquese Chriss,Gary Clark,Vincent Edwards,James Ennis III,Kenneth Faried,Eric Gordon,Gerald Green,James Harden,Isaiah Hartenstein,Danuel House Jr.,Terrence Jones,Brandon Knight,Nene,James Nunnally,Chris Paul,Zhou Qi,Austin Rivers,Iman Shumpert,PJ Tucker'},\n",
       " {'team': '18_Tor',\n",
       "  'members': 'OG Anunoby,Chris Boucher,Lorenzo Brown,Marc Gasol,Danny Green,Serge Ibaka,Kawhi Leonard,Jeremy Lin,Kyle Lowry,Jordan Loyd,Patrick McCaw,Jodie Meeks,CJ Miles,Malcolm Miller,Greg Monroe,Eric Moreland,Norman Powell,Malachi Richardson,Pascal Siakam,Jonas Valanciunas,Fred VanVleet,Delon Wright'},\n",
       " {'team': '18_Was',\n",
       "  'members': 'Trevor Ariza,Ron Baker,Bradley Beal,Troy Brown Jr.,Thomas Bryant,Sam Dekker,Jeff Green,Dwight Howard,John Jenkins,Wesley Johnson,Ian Mahinmi,Jordan McRae,Markieff Morris,Kelly Oubre Jr.,Jabari Parker,Gary Payton II,Otto Porter Jr.,Bobby Portis,Chasson Randle,Austin Rivers,Devin Robinson,Tomas Satoransky,Jason Smith,John Wall,Okaro White'},\n",
       " {'team': '18_Orl',\n",
       "  'members': 'D.J. Augustin,Mo Bamba,Khem Birch,Isaiah Briscoe,Michael Carter-Williams,Troy Caupain,Evan Fournier,Melvin Frazier Jr.,Aaron Gordon,Jerian Grant,Jonathan Isaac,Wes Iwundu,Amile Jefferson,Jarell Martin,Terrence Ross,Jonathon Simmons,Nikola Vucevic'},\n",
       " {'team': '18_Cha',\n",
       "  'members': \"Dwayne Bacon,Nicolas Batum,Bismack Biyombo,Miles Bridges,Joe Chealey,Devonte' Graham,Willy Hernangomez,Frank Kaminsky,Michael Kidd-Gilchrist,Jeremy Lamb,Shelvin Mack,J.P. Macura,Malik Monk,Tony Parker,Kemba Walker,Marvin Williams,Cody Zeller\"},\n",
       " {'team': '18_Sac',\n",
       "  'members': \"Marvin Bagley III,Harrison Barnes,Nemanja Bjelica,Bogdan Bogdanovic,Corey Brewer,Alec Burks,Willie Cauley-Stein,Yogi Ferrell,De'Aaron Fox,Harry Giles III,Buddy Hield,Justin Jackson,BJ Johnson,Kosta Koufos,Skal Labissiere,Frank Mason,Ben McLemore,Iman Shumpert,Caleb Swanigan,Troy Williams\"},\n",
       " {'team': '18_Lal',\n",
       "  'members': 'Lonzo Ball,Michael Beasley,Isaac Bonga,Reggie Bullock,Kentavious Caldwell-Pope,Alex Caruso,Tyson Chandler,Josh Hart,Andre Ingram,Brandon Ingram,LeBron James,Jemerrio Jones,Kyle Kuzma,Scott Machado,JaVale McGee,Mike Muscala,Svi Mykhailiuk,Rajon Rondo,Lance Stephenson,Moritz Wagner,Johnathan Williams,Ivica Zubac'},\n",
       " {'team': '18_Min',\n",
       "  'members': 'Keita Bates-Diop,Jerryd Bayless,Jimmy Butler,Isaiah Canaan,Robert Covington,Mitchell Creek,Luol Deng,Gorgui Dieng,Taj Gibson,Tyus Jones,James Nunnally,Josh Okogie,Cameron Reynolds,Derrick Rose,Dario Saric,Jeff Teague,Jared Terrell,Anthony Tolliver,Karl-Anthony Towns,Andrew Wiggins,C.J. Williams'},\n",
       " {'team': '18_Bos',\n",
       "  'members': 'Aron Baynes,Jaylen Brown,PJ Dozier,Gordon Hayward,Al Horford,RJ Hunter,Kyrie Irving,Greg Monroe,Marcus Morris,Semi Ojeleye,Terry Rozier,Marcus Smart,Jayson Tatum,Daniel Theis,Brad Wanamaker,Robert Williams III,Guerschon Yabusele'},\n",
       " {'team': '18_Gol',\n",
       "  'members': 'Jordan Bell,Andrew Bogut,Quinn Cook,DeMarcus Cousins,Stephen Curry,Marcus Derrickson,Kevin Durant,Jacob Evans,Draymond Green,Andre Iguodala,Jonas Jerebko,Damian Jones,Damion Lee,Shaun Livingston,Kevon Looney,Alfonzo McKinnie,Klay Thompson'},\n",
       " {'team': '18_Nor',\n",
       "  'members': \"Dairis Bertans,Ian Clark,Anthony Davis,Cheick Diallo,Tim Frazier,Andrew Harrison,Solomon Hill,Jrue Holiday,Frank Jackson,Stanley Johnson,Wesley Johnson,Darius Miller,Nikola Mirotic,E'Twaun Moore,Jahlil Okafor,Elfrid Payton,Julius Randle,Jason Smith,Kenrich Williams,Christian Wood\"},\n",
       " {'team': '18_Lac',\n",
       "  'members': 'Patrick Beverley,Avery Bradley,Wilson Chandler,Angel Delgado,Danilo Gallinari,Shai Gilgeous-Alexander,Marcin Gortat,JaMychal Green,Montrezl Harrell,Tobias Harris,Boban Marjanovic,Luc Mbah a Moute,Johnathan Motley,Jerome Robinson,Mike Scott,Landry Shamet,Garrett Temple,Milos Teodosic,Sindarius Thornwell,Tyrone Wallace,Lou Williams,Ivica Zubac'},\n",
       " {'team': '18_Phi',\n",
       "  'members': 'Jonah Bolden,Corey Brewer,Jimmy Butler,Wilson Chandler,Robert Covington,Joel Embiid,James Ennis III,Markelle Fultz,Tobias Harris,Haywood Highsmith,Demetrius Jackson,Amir Johnson,Furkan Korkmaz,Boban Marjanovic,T.J. McConnell,Shake Milton,Greg Monroe,Mike Muscala,Justin Patton,JJ Redick,Dario Saric,Mike Scott,Landry Shamet,Ben Simmons,Jonathon Simmons,Zhaire Smith'},\n",
       " {'team': '18_Det',\n",
       "  'members': 'Bruce Brown,Reggie Bullock,Jose Calderon,Andre Drummond,Henry Ellenson,Wayne Ellington,Langston Galloway,Blake Griffin,Reggie Jackson,Stanley Johnson,Luke Kennard,Jon Leuer,Zach Lofton,Kalin Lucas,Thon Maker,Svi Mykhailiuk,Zaza Pachulia,Glenn Robinson III,Ish Smith,Khyri Thomas'},\n",
       " {'team': '19_Okc',\n",
       "  'members': 'Steven Adams,Darius Bazley,Deonte Burton,Hamidou Diallo,Luguentz Dort,Terrance Ferguson,Danilo Gallinari,Shai Gilgeous-Alexander,Devon Hall,Kevin Hervey,Mike Muscala,Abdel Nader,Nerlens Noel,Justin Patton,Chris Paul,Andre Roberson,Isaiah Roby,Dennis Schroder'},\n",
       " {'team': '19_Mia',\n",
       "  'members': 'Bam Adebayo,Kyle Alexander,Jimmy Butler,Jae Crowder,Goran Dragic,Udonis Haslem,Tyler Herro,Solomon Hill,Andre Iguodala,James Johnson,Derrick Jones Jr.,Meyers Leonard,Daryl Macon,Kendrick Nunn,KZ Okpala,Kelly Olynyk,Duncan Robinson,Chris Silva,Gabe Vincent,Dion Waiters,Justise Winslow'},\n",
       " {'team': '19_San',\n",
       "  'members': 'LaMarcus Aldridge,Marco Belinelli,DeMarre Carroll,DeMar DeRozan,Drew Eubanks,Bryn Forbes,Rudy Gay,Keldon Johnson,Trey Lyles,Chimezie Metu,Patty Mills,Dejounte Murray,Jakob Poeltl,Luka Samanic,Lonnie Walker IV,Quinndary Weatherspoon,Derrick White,Tyler Zeller'},\n",
       " {'team': '19_Nor',\n",
       "  'members': \"Nickeil Alexander-Walker,Lonzo Ball,Zylan Cheatham,Derrick Favors,Josh Gray,Josh Hart,Jaxson Hayes,Jrue Holiday,Brandon Ingram,Frank Jackson,Nicolo Melli,E'Twaun Moore,Jahlil Okafor,JJ Redick,Sindarius Thornwell,Kenrich Williams,Zion Williamson\"},\n",
       " {'team': '19_Mem',\n",
       "  'members': \"Grayson Allen,Kyle Anderson,Jordan Bell,Dillon Brooks,Bruno Caboclo,Brandon Clarke,Jae Crowder,Gorgui Dieng,Marko Guduric,Dusty Hannahs,Solomon Hill,Jaren Jackson Jr.,Josh Jackson,Tyus Jones,John Konchar,De'Anthony Melton,Ja Morant,Anthony Tolliver,Jarrod Uthoff,Jonas Valanciunas,Yuta Watanabe\"},\n",
       " {'team': '19_Bro',\n",
       "  'members': 'Jarrett Allen,Justin Anderson,Wilson Chandler,Chris Chiozza,Nicolas Claxton,Jamal Crawford,Spencer Dinwiddie,Henry Ellenson,Donta Hall,Joe Harris,Kyrie Irving,Tyler Johnson,DeAndre Jordan,Rodions Kurucs,Caris LeVert,Timothe Luwawu-Cabarrot,Jeremiah Martin,Dzanan Musa,David Nwaba,Theo Pinson,Taurean Prince,Iman Shumpert,Garrett Temple,Lance Thomas'},\n",
       " {'team': '19_Nyk',\n",
       "  'members': 'Kadeem Allen,RJ Barrett,Ignas Brazdeikis,Reggie Bullock,Damyean Dotson,Wayne Ellington,Taj Gibson,Maurice Harkless,Kevin Knox II,Marcus Morris Sr.,Frank Ntilikina,Elfrid Payton,Bobby Portis,Julius Randle,Mitchell Robinson,Dennis Smith Jr.,Allonzo Trier'},\n",
       " {'team': '19_Orl',\n",
       "  'members': 'Al-Farouq Aminu,D.J. Augustin,Mo Bamba,Khem Birch,Michael Carter-Williams,Gary Clark,James Ennis III,Evan Fournier,Melvin Frazier Jr.,Markelle Fultz,Aaron Gordon,Jonathan Isaac,Wes Iwundu,Amile Jefferson,BJ Johnson,Vic Law,Josh Magette,Terrence Ross,Nikola Vucevic'},\n",
       " {'team': '19_Hou',\n",
       "  'members': 'Ryan Anderson,Bruno Caboclo,Clint Capela,DeMarre Carroll,Tyson Chandler,Gary Clark,Chris Clemons,Robert Covington,Michael Frazier,Eric Gordon,Jeff Green,James Harden,Isaiah Hartenstein,Danuel House Jr.,William Howard,Luc Mbah a Moute,Ben McLemore,Austin Rivers,Thabo Sefolosha,P.J. Tucker,Russell Westbrook'},\n",
       " {'team': '19_Mil',\n",
       "  'members': 'Giannis Antetokounmpo,Thanasis Antetokounmpo,Dragan Bender,Eric Bledsoe,Sterling Brown,Pat Connaughton,Donte DiVincenzo,George Hill,Ersan Ilyasova,Kyle Korver,Brook Lopez,Robin Lopez,Frank Mason,Wesley Matthews,Khris Middleton,Marvin Williams,D.J. Wilson'},\n",
       " {'team': '19_Lal',\n",
       "  'members': 'Kostas Antetokounmpo,Avery Bradley,Devontae Cacok,Kentavious Caldwell-Pope,Alex Caruso,Quinn Cook,Troy Daniels,Anthony Davis,Jared Dudley,Danny Green,Talen Horton-Tucker,Dwight Howard,LeBron James,Kyle Kuzma,JaVale McGee,Markieff Morris,Zach Norvell Jr.,Rajon Rondo,JR Smith,Dion Waiters'},\n",
       " {'team': '19_Por',\n",
       "  'members': 'Carmelo Anthony,Trevor Ariza,Kent Bazemore,Moses Brown,Zach Collins,Wenyen Gabriel,Mario Hezonja,Jaylen Hoard,Rodney Hood,Skal Labissiere,Damian Lillard,Nassir Little,CJ McCollum,Jusuf Nurkic,Anfernee Simons,Caleb Swanigan,Anthony Tolliver,Gary Trent Jr.,Hassan Whiteside'},\n",
       " {'team': '19_Tor',\n",
       "  'members': 'OG Anunoby,Chris Boucher,Oshae Brissett,Terence Davis,Marc Gasol,Dewan Hernandez,Rondae Hollis-Jefferson,Serge Ibaka,Stanley Johnson,Kyle Lowry,Patrick McCaw,Malcolm Miller,Shamorie Ponds,Norman Powell,Pascal Siakam,Matt Thomas,Fred VanVleet,Paul Watson'},\n",
       " {'team': '19_Chi',\n",
       "  'members': 'Ryan Arcidiacono,Wendell Carter Jr.,Kris Dunn,Cristiano Felicio,Daniel Gafford,Shaquille Harrison,Chandler Hutchison,Luke Kornet,Zach LaVine,Lauri Markkanen,Adam Mokoka,Otto Porter Jr.,Tomas Satoransky,Max Strus,Denzel Valentine,Coby White,Thaddeus Young'},\n",
       " {'team': '19_Sac',\n",
       "  'members': \"Trevor Ariza,Marvin Bagley III,Harrison Barnes,Kent Bazemore,Nemanja Bjelica,Bogdan Bogdanovic,Corey Brewer,Dewayne Dedmon,Yogi Ferrell,De'Aaron Fox,Wenyen Gabriel,Harry Giles III,Kyle Guy,Buddy Hield,Richaun Holmes,Justin James,DaQuan Jeffries,Cory Joseph,Alex Len,Eric Mika,Jabari Parker,Caleb Swanigan,Anthony Tolliver\"},\n",
       " {'team': '19_Pho',\n",
       "  'members': 'Deandre Ayton,Aron Baynes,Jonah Bolden,Devin Booker,Mikal Bridges,Jevon Carter,Cheick Diallo,Jared Harper,Ty Jerome,Cameron Johnson,Tyler Johnson,Frank Kaminsky,Jalen Lecque,Elie Okobo,Kelly Oubre Jr.,Tariq Owens,Cameron Payne,Ricky Rubio,Dario Saric'},\n",
       " {'team': '19_Cha',\n",
       "  'members': \"Dwayne Bacon,Nicolas Batum,Bismack Biyombo,Miles Bridges,Joe Chealey,Devonte' Graham,Willy Hernangomez,Michael Kidd-Gilchrist,Caleb Martin,Cody Martin,Jalen McDaniels,Malik Monk,Terry Rozier,P.J. Washington,Marvin Williams,Cody Zeller\"},\n",
       " {'team': '19_Dal',\n",
       "  'members': 'J.J. Barea,Ryan Broekhoff,Jalen Brunson,Trey Burke,Willie Cauley-Stein,Antonius Cleveland,Seth Curry,Luka Doncic,Dorian Finney-Smith,Tim Hardaway Jr.,Justin Jackson,Michael Kidd-Gilchrist,Maxi Kleber,Courtney Lee,Boban Marjanovic,Kristaps Porzingis,Dwight Powell,Josh Reaves,Delon Wright'},\n",
       " {'team': '19_Den',\n",
       "  'members': 'Will Barton,Keita Bates-Diop,Malik Beasley,Bol Bol,Vlatko Cancar,Tyler Cook,Torrey Craig,Troy Daniels,PJ Dozier,Jerami Grant,Gary Harris,Juancho Hernangomez,Nikola Jokic,Jordan McRae,Paul Millsap,Monte Morris,Jamal Murray,Mason Plumlee,Michael Porter Jr.,Jarred Vanderbilt,Noah Vonleh'},\n",
       " {'team': '19_Min',\n",
       "  'members': \"Keita Bates-Diop,Malik Beasley,Jordan Bell,Robert Covington,Allen Crabbe,Jarrett Culver,Gorgui Dieng,Jacob Evans,Treveon Graham,Juancho Hernangomez,James Johnson,Jake Layman,Kelan Martin,Jordan McLaughlin,Shabazz Napier,Jaylen Nowell,Josh Okogie,Naz Reid,D'Angelo Russell,Jeff Teague,Karl-Anthony Towns,Jarred Vanderbilt,Noah Vonleh,Andrew Wiggins\"},\n",
       " {'team': '19_Was',\n",
       "  'members': 'Bradley Beal,Davis Bertans,Isaac Bonga,Troy Brown Jr.,Thomas Bryant,Chris Chiozza,Jerian Grant,Rui Hachimura,Ian Mahinmi,Garrison Mathews,Jordan McRae,CJ Miles,Shabazz Napier,Anzejs Pasecniks,Gary Payton II,Jerome Robinson,Justin Robinson,Admiral Schofield,Ish Smith,Isaiah Thomas,Jarrod Uthoff,Moritz Wagner,Johnathan Williams'},\n",
       " {'team': '19_Atl',\n",
       "  'members': \"DeAndre' Bembry,Charles Brown Jr.,Vince Carter,John Collins,Allen Crabbe,Dewayne Dedmon,Bruno Fernando,Brandon Goodwin,Treveon Graham,Kevin Huerter,De'Andre Hunter,Damian Jones,Alex Len,Jabari Parker,Chandler Parsons,Cam Reddish,Jeff Teague,Evan Turner,Tyrone Wallace,Paul Watson,Trae Young\"},\n",
       " {'team': '19_Gol',\n",
       "  'members': \"Dragan Bender,Ky Bowman,Alec Burks,Willie Cauley-Stein,Marquese Chriss,Stephen Curry,Jacob Evans,Draymond Green,Damion Lee,Kevon Looney,Mychal Mulder,Zach Norvell Jr.,Jeremy Pargo,Eric Paschall,Jordan Poole,Chasson Randle,Glenn Robinson III,D'Angelo Russell,Alen Smailagic,Omari Spellman,Juan Toscano-Anderson,Andrew Wiggins\"},\n",
       " {'team': '19_Lac',\n",
       "  'members': 'Patrick Beverley,Amir Coffey,Paul George,JaMychal Green,Maurice Harkless,Montrezl Harrell,Reggie Jackson,Mfiondu Kabengele,Kawhi Leonard,Terance Mann,Rodney McGruder,Marcus Morris Sr.,Johnathan Motley,Joakim Noah,Patrick Patterson,Jerome Robinson,Landry Shamet,Derrick Walton Jr.,Lou Williams,Ivica Zubac'},\n",
       " {'team': '19_Ind',\n",
       "  'members': 'Goga Bitadze,Brian Bowen II,Malcolm Brogdon,Aaron Holiday,Justin Holiday,Alize Johnson,Jeremy Lamb,TJ Leaf,T.J. McConnell,Doug McDermott,Naz Mitrou-Long,Victor Oladipo,Domantas Sabonis,JaKarr Sampson,Edmond Sumner,Myles Turner,T.J. Warren'},\n",
       " {'team': '19_Uta',\n",
       "  'members': \"Bojan Bogdanovic,Tony Bradley,Jarrell Brantley,Jordan Clarkson,Mike Conley,Ed Davis,Dante Exum,Rudy Gobert,Jeff Green,Joe Ingles,Stanton Kidd,Donovan Mitchell,Juwan Morgan,Emmanuel Mudiay,Georges Niang,Royce O'Neale,Miye Oni,Rayjon Tucker,Nigel Williams-Goss,Justin Wright-Foreman\"},\n",
       " {'team': '19_Phi',\n",
       "  'members': \"Jonah Bolden,Trey Burke,Alec Burks,Joel Embiid,James Ennis III,Tobias Harris,Al Horford,Furkan Korkmaz,Shake Milton,Raul Neto,Kyle O'Quinn,Norvel Pelle,Josh Richardson,Glenn Robinson III,Mike Scott,Marial Shayok,Ben Simmons,Zhaire Smith,Matisse Thybulle\"},\n",
       " {'team': '19_Cle',\n",
       "  'members': 'Marques Bolden,Jordan Clarkson,Tyler Cook,Matthew Dellavedova,Andre Drummond,Dante Exum,Darius Garland,John Henson,Brandon Knight,Kevin Love,J.P. Macura,Alfonzo McKinnie,Matt Mooney,Larry Nance Jr.,Malik Newman,Cedi Osman,Kevin Porter Jr.,Collin Sexton,Tristan Thompson,Dean Wade,Ante Zizic'},\n",
       " {'team': '19_Det',\n",
       "  'members': 'Jordan Bone,Bruce Brown,Sekou Doumbouya,Andre Drummond,Tim Frazier,Langston Galloway,Blake Griffin,Donta Hall,John Henson,Reggie Jackson,Luke Kennard,Louis King,Brandon Knight,Thon Maker,Jordan McRae,Markieff Morris,Svi Mykhailiuk,Derrick Rose,Tony Snell,Khyri Thomas,Derrick Walton Jr.,Christian Wood'},\n",
       " {'team': '19_Bos',\n",
       "  'members': 'Jaylen Brown,Carsen Edwards,Tacko Fall,Javonte Green,Gordon Hayward,Enes Kanter,Romeo Langford,Semi Ojeleye,Vincent Poirier,Marcus Smart,Jayson Tatum,Daniel Theis,Kemba Walker,Brad Wanamaker,Tremont Waters,Robert Williams III,Grant Williams'},\n",
       " {'team': '20_Bro',\n",
       "  'members': 'Jarrett Allen,Jeff Green,Joe Harris,Caris LeVert,Timothe Luwawu-Cabarrot,Taurean Prince,Landry Shamet,DeAndre Jordan,Bruce Brown,Kevin Durant,Kyrie Irving,Chris Chiozza,Rodions Kurucs,Tyler Johnson,Reggie Perry,Spencer Dinwiddie'},\n",
       " {'team': '20_Lal',\n",
       "  'members': 'Marc Gasol,Montrezl Harrell,LeBron James,Kyle Kuzma,Markieff Morris,Dennis Schroder,Talen Horton-Tucker,Anthony Davis,Wesley Matthews,Kentavious Caldwell-Pope,Quinn Cook,Alex Caruso,Alfonzo McKinnie,Jared Dudley,Kostas Antetokounmpo'},\n",
       " {'team': '20_Phi',\n",
       "  'members': 'Danny Green,Dwight Howard,Tyrese Maxey,Joel Embiid,Ben Simmons,Tobias Harris,Shake Milton,Matisse Thybulle,Seth Curry,Isaiah Joe,Dakota Mathias,Mike Scott,Terrance Ferguson,Tony Bradley,Furkan Korkmaz,Vincent Poirier,Paul Reed'},\n",
       " {'team': '20_Cle',\n",
       "  'members': 'JaVale McGee,Larry Nance Jr.,Cedi Osman,Damyean Dotson,Andre Drummond,Dean Wade,Thon Maker,Collin Sexton,Lamar Stevens,Isaac Okoro,Marques Bolden,Dante Exum,Darius Garland,Yogi Ferrell,Kevin Love,Dylan Windler'},\n",
       " {'team': '20_Orl',\n",
       "  'members': 'Cole Anthony,Dwayne Bacon,Khem Birch,Nikola Vucevic,Aaron Gordon,Terrence Ross,Gary Clark,Markelle Fultz,Michael Carter-Williams,Jordan Bone,Evan Fournier,Karim Mane,Chuma Okeke,Mo Bamba,James Ennis III'},\n",
       " {'team': '20_Was',\n",
       "  'members': 'Deni Avdija,Davis Bertans,Robin Lopez,Raul Neto,Ish Smith,Bradley Beal,Thomas Bryant,Isaac Bonga,Troy Brown Jr.,Rui Hachimura,Russell Westbrook,Jerome Robinson,Garrison Mathews,Moritz Wagner,Anthony Gill,Anzejs Pasecniks,Cassius Winston'},\n",
       " {'team': '20_Pho',\n",
       "  'members': \"Deandre Ayton,Devin Booker,Mikal Bridges,Jevon Carter,Jae Crowder,Langston Galloway,Cameron Johnson,Chris Paul,Cameron Payne,Dario Saric,Damian Jones,Frank Kaminsky,Ty-Shon Alexander,E'Twaun Moore,Jalen Smith,Abdel Nader\"},\n",
       " {'team': '20_Sac',\n",
       "  'members': \"Marvin Bagley III,Harrison Barnes,De'Aaron Fox,Buddy Hield,Cory Joseph,Nemanja Bjelica,Richaun Holmes,Tyrese Haliburton,Glenn Robinson III,Hassan Whiteside,Kyle Guy,Justin James,Jahmi'us Ramsey,Robert Woodard II,Chimezie Metu\"},\n",
       " {'team': '20_Cha',\n",
       "  'members': \"LaMelo Ball,Bismack Biyombo,Miles Bridges,Devonte' Graham,Gordon Hayward,Terry Rozier,P.J. Washington,Caleb Martin,Cody Martin,Jalen McDaniels,Nick Richards,Vernon Carey Jr.,Malik Monk,Cody Zeller\"},\n",
       " {'team': '20_Nyk',\n",
       "  'members': 'RJ Barrett,Kevin Knox II,Elfrid Payton,Julius Randle,Mitchell Robinson,Reggie Bullock,Nerlens Noel,Immanuel Quickley,Austin Rivers,Theo Pinson,Frank Ntilikina,Ignas Brazdeikis,Alec Burks,Jared Harper,Dennis Smith Jr.,Obi Toppin'},\n",
       " {'team': '20_Den',\n",
       "  'members': 'Will Barton,PJ Dozier,Nikola Jokic,Paul Millsap,Monte Morris,Facundo Campazzo,Gary Harris,Jamal Murray,Isaiah Hartenstein,R.J. Hampton,JaMychal Green,Bol Bol,Markus Howard,Zeke Nnaji,Vlatko Cancar,Michael Porter Jr.'},\n",
       " {'team': '20_Lac',\n",
       "  'members': 'Nicolas Batum,Patrick Beverley,Serge Ibaka,Luke Kennard,Lou Williams,Ivica Zubac,Paul George,Reggie Jackson,Terance Mann,Kawhi Leonard,Amir Coffey,Mfiondu Kabengele,Daniel Oturu,Patrick Patterson,Marcus Morris Sr.'},\n",
       " {'team': '20_Uta',\n",
       "  'members': \"Bojan Bogdanovic,Jordan Clarkson,Mike Conley,Derrick Favors,Rudy Gobert,Donovan Mitchell,Georges Niang,Royce O'Neale,Joe Ingles,Miye Oni,Udoka Azubuike,Shaquille Harrison,Elijah Hughes,Juwan Morgan,Trent Forrest,Jarrell Brantley\"},\n",
       " {'team': '20_Ind',\n",
       "  'members': 'Malcolm Brogdon,Aaron Holiday,Justin Holiday,Doug McDermott,Domantas Sabonis,Myles Turner,Victor Oladipo,T.J. McConnell,JaKarr Sampson,Kelan Martin,Cassius Stanley,Edmond Sumner,T.J. Warren,Jalen Lecque'},\n",
       " {'team': '20_Chi',\n",
       "  'members': 'Wendell Carter Jr.,Zach LaVine,Coby White,Patrick Williams,Daniel Gafford,Otto Porter Jr.,Garrett Temple,Denzel Valentine,Thaddeus Young,Adam Mokoka,Chandler Hutchison,Lauri Markkanen,Tomas Satoransky,Ryan Arcidiacono,Devon Dotson,Cristiano Felicio,Luke Kornet'},\n",
       " {'team': '20_Gol',\n",
       "  'members': 'Stephen Curry,Damion Lee,Kevon Looney,Mychal Mulder,Kelly Oubre Jr.,Brad Wanamaker,Andrew Wiggins,James Wiseman,Eric Paschall,Kent Bazemore,Draymond Green,Jordan Poole,Juan Toscano-Anderson,Marquese Chriss,Nico Mannion'},\n",
       " {'team': '20_Mil',\n",
       "  'members': 'Donte DiVincenzo,Bryn Forbes,Jrue Holiday,Brook Lopez,Khris Middleton,Bobby Portis,Giannis Antetokounmpo,Thanasis Antetokounmpo,D.J. Augustin,Pat Connaughton,Jordan Nwora,Sam Merrill,D.J. Wilson,Torrey Craig,Jaylen Adams'},\n",
       " {'team': '20_San',\n",
       "  'members': 'Rudy Gay,Keldon Johnson,Patty Mills,Dejounte Murray,Jakob Poeltl,Lonnie Walker IV,Devin Vassell,DeMar DeRozan,LaMarcus Aldridge,Trey Lyles,Drew Eubanks,Tre Jones,Luka Samanic,Keita Bates-Diop,Derrick White'},\n",
       " {'team': '20_Mem',\n",
       "  'members': \"Kyle Anderson,Desmond Bane,Dillon Brooks,Brandon Clarke,Tyus Jones,Jonas Valanciunas,Grayson Allen,Gorgui Dieng,John Konchar,De'Anthony Melton,Xavier Tillman,Sean McDermott,Ja Morant,Tim Frazier\"},\n",
       " {'team': '20_Tor',\n",
       "  'members': \"OG Anunoby,Chris Boucher,Norman Powell,Fred VanVleet,Kyle Lowry,Pascal Siakam,Stanley Johnson,Aron Baynes,Terence Davis,Alex Len,Malachi Flynn,DeAndre' Bembry,Yuta Watanabe,Matt Thomas,Paul Watson,Jalen Harris\"},\n",
       " {'team': '20_Okc',\n",
       "  'members': 'Darius Bazley,Hamidou Diallo,Luguentz Dort,Shai Gilgeous-Alexander,Theo Maledon,Kenrich Williams,George Hill,Al Horford,Mike Muscala,Aleksej Pokusevski,Isaiah Roby,Moses Brown,Josh Hall,Justin Jackson,Darius Miller'},\n",
       " {'team': '20_Min',\n",
       "  'members': \"Malik Beasley,Jarrett Culver,Anthony Edwards,Juancho Hernangomez,Naz Reid,Ricky Rubio,D'Angelo Russell,Jake Layman,Ed Davis,Jarred Vanderbilt,Jaden McDaniels,Jordan McLaughlin,Josh Okogie,Karl-Anthony Towns,Jaylen Nowell\"},\n",
       " {'team': '20_Bos',\n",
       "  'members': 'Jaylen Brown,Payton Pritchard,Jayson Tatum,Daniel Theis,Semi Ojeleye,Marcus Smart,Jeff Teague,Tristan Thompson,Robert Williams III,Grant Williams,Carsen Edwards,Javonte Green,Aaron Nesmith,Tremont Waters,Tacko Fall'},\n",
       " {'team': '20_Atl',\n",
       "  'members': \"John Collins,Solomon Hill,Kevin Huerter,De'Andre Hunter,Cam Reddish,Trae Young,Bogdan Bogdanovic,Clint Capela,Brandon Goodwin,Bruno Fernando,Nathan Knight,Skylar Mays,Danilo Gallinari,Rajon Rondo,Tony Snell\"},\n",
       " {'team': '20_Por',\n",
       "  'members': 'Robert Covington,Derrick Jones Jr.,Enes Kanter,Damian Lillard,CJ McCollum,Jusuf Nurkic,Carmelo Anthony,Rodney Hood,Anfernee Simons,Gary Trent Jr.,Harry Giles III,CJ Elleby,Keljin Blevins,Nassir Little'},\n",
       " {'team': '20_Det',\n",
       "  'members': 'Sekou Doumbouya,Jerami Grant,Svi Mykhailiuk,Mason Plumlee,Delon Wright,Saddiq Bey,Josh Jackson,Derrick Rose,Isaiah Stewart,Blake Griffin,Killian Hayes,Jahlil Okafor,Wayne Ellington,Frank Jackson,Rodney McGruder,Saben Lee,Deividas Sirvydis'},\n",
       " {'team': '20_Mia',\n",
       "  'members': 'Precious Achiuwa,Tyler Herro,Duncan Robinson,Bam Adebayo,Goran Dragic,Andre Iguodala,Kelly Olynyk,Avery Bradley,Jimmy Butler,Maurice Harkless,Kendrick Nunn,KZ Okpala,Chris Silva,Meyers Leonard,Max Strus,Gabe Vincent'},\n",
       " {'team': '20_Nor',\n",
       "  'members': 'Steven Adams,Lonzo Ball,Eric Bledsoe,Josh Hart,Jaxson Hayes,Brandon Ingram,JJ Redick,Zion Williamson,Nickeil Alexander-Walker,Nicolo Melli,Kira Lewis Jr.,Sindarius Thornwell,Willy Hernangomez'},\n",
       " {'team': '20_Hou',\n",
       "  'members': \"Sterling Brown,Jae'Sean Tate,P.J. Tucker,James Harden,David Nwaba,Christian Wood,DeMarcus Cousins,Eric Gordon,John Wall,Bruno Caboclo,Danuel House Jr.,Mason Jones,Kenyon Martin Jr.,Ben McLemore,Brodric Thomas\"},\n",
       " {'team': '20_Dal',\n",
       "  'members': 'Willie Cauley-Stein,Tim Hardaway Jr.,James Johnson,Maxi Kleber,Dwight Powell,Jalen Brunson,Trey Burke,Luka Doncic,Dorian Finney-Smith,Josh Richardson,Josh Green,Boban Marjanovic,Wes Iwundu,Tyrell Terry,Nate Hinton'}]"
      ]
     },
     "execution_count": 9,
     "metadata": {},
     "output_type": "execute_result"
    }
   ],
   "source": [
    "team_member"
   ]
  },
  {
   "cell_type": "markdown",
   "metadata": {},
   "source": [
    "建立一個 DataFrame 來存每一年每一個球隊的球員名單(球員以 , 分隔"
   ]
  },
  {
   "cell_type": "code",
   "execution_count": 35,
   "metadata": {
    "scrolled": true
   },
   "outputs": [
    {
     "data": {
      "text/html": [
       "<div>\n",
       "<style scoped>\n",
       "    .dataframe tbody tr th:only-of-type {\n",
       "        vertical-align: middle;\n",
       "    }\n",
       "\n",
       "    .dataframe tbody tr th {\n",
       "        vertical-align: top;\n",
       "    }\n",
       "\n",
       "    .dataframe thead th {\n",
       "        text-align: right;\n",
       "    }\n",
       "</style>\n",
       "<table border=\"1\" class=\"dataframe\">\n",
       "  <thead>\n",
       "    <tr style=\"text-align: right;\">\n",
       "      <th></th>\n",
       "      <th>team</th>\n",
       "      <th>members</th>\n",
       "    </tr>\n",
       "  </thead>\n",
       "  <tbody>\n",
       "    <tr>\n",
       "      <th>0</th>\n",
       "      <td>17_Min</td>\n",
       "      <td>Aaron Brooks,Andrew Wiggins,Anthony Brown,Cole...</td>\n",
       "    </tr>\n",
       "    <tr>\n",
       "      <th>1</th>\n",
       "      <td>17_Orl</td>\n",
       "      <td>Aaron Gordon,Adreian Payne,Arron Afflalo,Bisma...</td>\n",
       "    </tr>\n",
       "    <tr>\n",
       "      <th>2</th>\n",
       "      <td>17_Dal</td>\n",
       "      <td>Aaron Harrison,Antonius Cleveland,Dennis Smith...</td>\n",
       "    </tr>\n",
       "    <tr>\n",
       "      <th>3</th>\n",
       "      <td>17_Hou</td>\n",
       "      <td>Aaron Jackson,Bobby Brown,Brandan Wright,Brian...</td>\n",
       "    </tr>\n",
       "    <tr>\n",
       "      <th>4</th>\n",
       "      <td>17_Bos</td>\n",
       "      <td>Abdel Nader,Al Horford,Aron Baynes,Daniel Thei...</td>\n",
       "    </tr>\n",
       "  </tbody>\n",
       "</table>\n",
       "</div>"
      ],
      "text/plain": [
       "     team                                            members\n",
       "0  17_Min  Aaron Brooks,Andrew Wiggins,Anthony Brown,Cole...\n",
       "1  17_Orl  Aaron Gordon,Adreian Payne,Arron Afflalo,Bisma...\n",
       "2  17_Dal  Aaron Harrison,Antonius Cleveland,Dennis Smith...\n",
       "3  17_Hou  Aaron Jackson,Bobby Brown,Brandan Wright,Brian...\n",
       "4  17_Bos  Abdel Nader,Al Horford,Aron Baynes,Daniel Thei..."
      ]
     },
     "execution_count": 35,
     "metadata": {},
     "output_type": "execute_result"
    }
   ],
   "source": [
    "team_member_df.to_csv(data_dir+'processed/nba_team_member_17-20.csv', index = False)\n",
    "corpus = team_member_df['members']\n",
    "team_member_df.head()"
   ]
  },
  {
   "cell_type": "markdown",
   "metadata": {},
   "source": [
    "找出所有球隊這四年中，有最多球員的數量，用於設置 window_size\n",
    "還有最少球員的數量"
   ]
  },
  {
   "cell_type": "code",
   "execution_count": 140,
   "metadata": {},
   "outputs": [
    {
     "data": {
      "text/plain": [
       "team                                                  20_Nor\n",
       "members    Steven Adams,Lonzo Ball,Eric Bledsoe,Josh Hart...\n",
       "Name: 117, dtype: object"
      ]
     },
     "execution_count": 140,
     "metadata": {},
     "output_type": "execute_result"
    }
   ],
   "source": [
    "team_member_df.iloc[117]"
   ]
  },
  {
   "cell_type": "code",
   "execution_count": 136,
   "metadata": {},
   "outputs": [
    {
     "name": "stdout",
     "output_type": "stream",
     "text": [
      "Sequence 最長長度: 28\n",
      "編號: 42\n",
      "Sequence 最短長度: 13\n",
      "編號: 117\n"
     ]
    }
   ],
   "source": [
    "max_len = 0\n",
    "max_index = 0\n",
    "min_len = 100\n",
    "min_index = 0\n",
    "for i, members in enumerate(corpus):\n",
    "    if len(members.split(',')) > max_len:\n",
    "        max_len = len(members.split(','))\n",
    "        max_index = i\n",
    "    if len(members.split(',')) < min_len:\n",
    "        min_len = len(members.split(','))\n",
    "        min_index = i\n",
    "        \n",
    "print('Sequence 最長長度:', max_len)\n",
    "print('編號:', max_index)\n",
    "print('Sequence 最短長度:', min_len)\n",
    "print('編號:', min_index)"
   ]
  },
  {
   "cell_type": "markdown",
   "metadata": {},
   "source": [
    "建立詞典，保存從球員名字到index的映射"
   ]
  },
  {
   "cell_type": "code",
   "execution_count": 51,
   "metadata": {},
   "outputs": [
    {
     "name": "stdout",
     "output_type": "stream",
     "text": [
      "856\n"
     ]
    }
   ],
   "source": [
    "vocab, index = {}, 1 # start indexing from 1\n",
    "vocab['<pad>'] = 0 # add a padding token\n",
    "for members in corpus:\n",
    "    for token in members.split(','):\n",
    "        if token not in vocab: \n",
    "            vocab[token] = index\n",
    "            index += 1\n",
    "            \n",
    "print(len(vocab))"
   ]
  },
  {
   "cell_type": "markdown",
   "metadata": {},
   "source": [
    "創建逆詞典，保存從index到球員名字的映射"
   ]
  },
  {
   "cell_type": "code",
   "execution_count": 31,
   "metadata": {},
   "outputs": [
    {
     "name": "stdout",
     "output_type": "stream",
     "text": [
      "{0: '<pad>', 1: 'Aaron Brooks', 2: 'Andrew Wiggins', 3: 'Anthony Brown', 4: 'Cole Aldrich', 5: 'Derrick Rose', 6: 'Gorgui Dieng', 7: 'Jamal Crawford', 8: 'Jeff Teague', 9: 'Jimmy Butler', 10: 'Justin Patton', 11: 'Karl-Anthony Towns', 12: 'Marcus Georges-Hunt', 13: 'Nemanja Bjelica', 14: 'Shabazz Muhammad', 15: 'Taj Gibson', 16: 'Tyus Jones', 17: 'Aaron Gordon', 18: 'Adreian Payne', 19: 'Arron Afflalo', 20: 'Bismack Biyombo', 21: 'D.J. Augustin', 22: 'Elfrid Payton', 23: 'Evan Fournier', 24: 'Jamel Artis', 25: 'Jonathan Isaac', 26: 'Jonathon Simmons', 27: 'Khem Birch', 28: 'Mario Hezonja', 29: 'Marreese Speights', 30: 'Nikola Vucevic', 31: 'Rashad Vaughn', 32: 'Rodney Purvis', 33: 'Shelvin Mack', 34: 'Terrence Ross', 35: 'Wes Iwundu', 36: 'Aaron Harrison', 37: 'Antonius Cleveland', 38: 'Dennis Smith Jr.', 39: 'Devin Harris', 40: 'Dirk Nowitzki', 41: 'Dorian Finney-Smith', 42: 'Doug McDermott', 43: 'Dwight Powell', 44: 'Gian Clavell', 45: 'Harrison Barnes', 46: 'J.J. Barea', 47: 'Jalen Jones', 48: 'Jameel Warney', 49: 'Jeff Withey', 50: 'Johnathan Motley', 51: 'Josh McRoberts', 52: 'Kyle Collinsworth', 53: 'Maxi Kleber', 54: 'Nerlens Noel', 55: 'Salah Mejri', 56: 'Scotty Hopson', 57: 'Wesley Matthews', 58: 'Yogi Ferrell', 59: 'Aaron Jackson', 60: 'Bobby Brown', 61: 'Brandan Wright', 62: 'Briante Weber', 63: 'Chinanu Onuaku', 64: 'Chris Paul', 65: 'Clint Capela', 66: 'Demetrius Jackson', 67: 'Eric Gordon', 68: 'Gerald Green', 69: 'Isaiah Canaan', 70: 'James Harden', 71: 'Joe Johnson', 72: 'Luc Mbah a Moute', 73: 'Markel Brown', 74: 'Nene', 75: 'PJ Tucker', 76: 'RJ Hunter', 77: 'Ryan Anderson', 78: 'Tarik Black', 79: 'Tim Quarterman', 80: 'Trevor Ariza', 81: 'Troy Williams', 82: 'Zhou Qi', 83: 'Abdel Nader', 84: 'Al Horford', 85: 'Aron Baynes', 86: 'Daniel Theis', 87: 'Gordon Hayward', 88: 'Greg Monroe', 89: 'Guerschon Yabusele', 90: 'Jabari Bird', 91: 'Jarell Eddie', 92: 'Jaylen Brown', 93: 'Jayson Tatum', 94: 'Jonathan Gibson', 95: 'Kadeem Allen', 96: 'Kyrie Irving', 97: 'Marcus Morris', 98: 'Marcus Smart', 99: 'Semi Ojeleye', 100: 'Shane Larkin', 101: 'Terry Rozier', 102: 'Xavier Silas', 103: 'Al Jefferson', 104: 'Alex Poythress', 105: 'Ben Moore', 106: 'Bojan Bogdanovic', 107: 'Cory Joseph', 108: 'Damien Wilkins', 109: 'Darren Collison', 110: 'Domantas Sabonis', 111: 'Edmond Sumner', 112: 'Glenn Robinson III', 113: 'Ike Anigbogu', 114: 'Joe Young', 115: 'Lance Stephenson', 116: 'Myles Turner', 117: 'Thaddeus Young', 118: 'TJ Leaf', 119: 'Trevor Booker', 120: 'Trey McKinney-Jones', 121: 'Victor Oladipo', 122: 'Alan Williams', 123: 'Alec Peters', 124: 'Alex Len', 125: 'Danuel House', 126: 'Davon Reed', 127: 'Derrick Jones Jr.', 128: 'Devin Booker', 129: 'Dragan Bender', 130: 'Eric Bledsoe', 131: 'Jared Dudley', 132: 'Josh Gray', 133: 'Josh Jackson', 134: 'Marquese Chriss', 135: 'Mike James', 136: 'Shaquille Harrison', 137: 'TJ Warren', 138: 'Troy Daniels', 139: 'Tyler Ulis', 140: 'Tyson Chandler', 141: 'Alec Burks', 142: 'Dante Exum', 143: 'David Stockton', 144: 'Derrick Favors', 145: 'Donovan Mitchell', 146: 'Ekpe Udoh', 147: 'Erik McCree', 148: 'Georges Niang', 149: 'Jae Crowder', 150: 'Joe Ingles', 151: 'Jonas Jerebko', 152: 'Nate Wolters', 153: 'Naz Mitrou-Long', 154: 'Raul Neto', 155: 'Ricky Rubio', 156: 'Rodney Hood', 157: \"Royce O'Neale\", 158: 'Rudy Gobert', 159: 'Thabo Sefolosha', 160: 'Tony Bradley', 161: 'Alex Abrines', 162: 'Andre Roberson', 163: 'Carmelo Anthony', 164: 'Corey Brewer', 165: 'Dakari Johnson', 166: 'Daniel Hamilton', 167: 'Jerami Grant', 168: 'Josh Huestis', 169: 'Kyle Singler', 170: 'Nick Collison', 171: 'Patrick Patterson', 172: 'Paul George', 173: 'PJ Dozier', 174: 'Raymond Felton', 175: 'Russell Westbrook', 176: 'Steven Adams', 177: 'Terrance Ferguson', 178: 'Alex Caruso', 179: 'Andre Ingram', 180: 'Andrew Bogut', 181: 'Brandon Ingram', 182: 'Brook Lopez', 183: 'Channing Frye', 184: 'Derrick Williams', 185: 'Gary Payton II', 186: 'Isaiah Thomas', 187: 'Ivica Zubac', 188: 'Jordan Clarkson', 189: 'Josh Hart', 190: 'Julius Randle', 191: 'Kentavious Caldwell-Pope', 192: 'Kyle Kuzma', 193: 'Larry Nance Jr.', 194: 'Lonzo Ball', 195: 'Luol Deng', 196: 'Nigel Hayes', 197: 'Thomas Bryant', 198: 'Travis Wear', 199: 'Tyler Ennis', 200: 'Vander Blue', 201: 'Al-Farouq Aminu', 202: 'Caleb Swanigan', 203: 'CJ McCollum', 204: 'Damian Lillard', 205: 'Ed Davis', 206: 'Evan Turner', 207: 'Georgios Papagiannis', 208: 'Jake Layman', 209: 'Jusuf Nurkic', 210: 'Maurice Harkless', 211: 'Meyers Leonard', 212: 'Noah Vonleh', 213: 'Pat Connaughton', 214: 'Shabazz Napier', 215: 'Wade Baldwin IV', 216: 'Zach Collins', 217: 'Alfonzo McKinnie', 218: 'Bruno Caboclo', 219: 'CJ Miles', 220: 'Delon Wright', 221: 'DeMar DeRozan', 222: 'Fred VanVleet', 223: 'Jakob Poeltl', 224: 'Jonas Valanciunas', 225: 'Kyle Lowry', 226: 'Lorenzo Brown', 227: 'Lucas Nogueira', 228: 'Malachi Richardson', 229: 'Malcolm Miller', 230: 'Norman Powell', 231: 'OG Anunoby', 232: 'Pascal Siakam', 233: 'Serge Ibaka', 234: 'Allen Crabbe', 235: 'Caris LeVert', 236: \"D'Angelo Russell\", 237: 'Dante Cunningham', 238: 'DeMarre Carroll', 239: 'Isaiah Whitehead', 240: 'Jacob Wiley', 241: 'Jahlil Okafor', 242: 'James Webb III', 243: 'Jarrett Allen', 244: 'Jeremy Lin', 245: 'Joe Harris', 246: 'Milton Doyle', 247: 'Nik Stauskas', 248: 'Quincy Acy', 249: 'Rondae Hollis-Jefferson', 250: 'Sean Kilpatrick', 251: 'Spencer Dinwiddie', 252: 'Timofey Mozgov', 253: 'Tyler Zeller', 254: 'Amir Johnson', 255: 'Ben Simmons', 256: 'Dario Saric', 257: 'Ersan Ilyasova', 258: 'Furkan Korkmaz', 259: 'Jacob Pullen', 260: 'James Michael McAdoo', 261: 'James Young', 262: 'Jerryd Bayless', 263: 'JJ Redick', 264: 'Joel Embiid', 265: 'Justin Anderson', 266: 'Larry Drew II', 267: 'Marco Belinelli', 268: 'Markelle Fultz', 269: 'Richaun Holmes', 270: 'Robert Covington', 271: 'T.J. McConnell', 272: 'Timothe Luwawu-Cabarrot', 273: 'Andre Drummond', 274: 'Anthony Tolliver', 275: 'Avery Bradley', 276: 'Blake Griffin', 277: 'Boban Marjanovic', 278: 'Dwight Buycks', 279: 'Eric Moreland', 280: 'Henry Ellenson', 281: 'Ish Smith', 282: 'Jameer Nelson', 283: 'James Ennis III', 284: 'Jon Leuer', 285: 'Kay Felder', 286: 'Langston Galloway', 287: 'Luis Montero', 288: 'Luke Kennard', 289: 'Reggie Bullock', 290: 'Reggie Hearn', 291: 'Reggie Jackson', 292: 'Stanley Johnson', 293: 'Tobias Harris', 294: 'Willie Reed', 295: 'Andre Iguodala', 296: 'Chris Boucher', 297: 'Damian Jones', 298: 'David West', 299: 'Draymond Green', 300: 'JaVale McGee', 301: 'Jordan Bell', 302: 'Kevin Durant', 303: 'Kevon Looney', 304: 'Klay Thompson', 305: 'Nick Young', 306: 'Omri Casspi', 307: 'Patrick McCaw', 308: 'Quinn Cook', 309: 'Shaun Livingston', 310: 'Stephen Curry', 311: 'Zaza Pachulia', 312: 'Andrew Harrison', 313: 'Ben McLemore', 314: 'Brice Johnson', 315: 'Chandler Parsons', 316: 'Deyonta Davis', 317: 'Dillon Brooks', 318: 'Ivan Rabb', 319: 'JaMychal Green', 320: 'Jarell Martin', 321: 'Kobi Simmons', 322: 'Marc Gasol', 323: 'Mario Chalmers', 324: 'Marquis Teague', 325: 'MarShon Brooks', 326: 'Mike Conley', 327: 'Myke Henry', 328: 'Omari Johnson', 329: 'Tyreke Evans', 330: 'Vincent Hunter', 331: 'Wayne Selden', 332: 'Xavier Rathan-Mayes', 333: 'Andrew White III', 334: 'Damion Lee', 335: \"DeAndre' Bembry\", 336: 'Dennis Schroder', 337: 'Dewayne Dedmon', 338: 'Isaiah Taylor', 339: 'Jaylen Morris', 340: 'Jeremy Evans', 341: 'John Collins', 342: 'Josh Magette', 343: 'Kent Bazemore', 344: 'Luke Babbitt', 345: 'Malcolm Delaney', 346: 'Mike Muscala', 347: 'Miles Plumlee', 348: 'Nicolas Brussino', 349: 'Taurean Prince', 350: 'Tyler Cavanaugh', 351: 'Tyler Dorsey', 352: 'Ante Zizic', 353: 'Cedi Osman', 354: 'Dwyane Wade', 355: 'George Hill', 356: 'Iman Shumpert', 357: 'Jeff Green', 358: 'John Holland', 359: 'Jose Calderon', 360: 'JR Smith', 361: 'Kendrick Perkins', 362: 'Kevin Love', 363: 'Kyle Korver', 364: 'LeBron James', 365: 'London Perrantes', 366: 'Tristan Thompson', 367: 'Anthony Davis', 368: 'Charles Cooke', 369: 'Cheick Diallo', 370: 'Darius Miller', 371: 'DeAndre Liggins', 372: 'DeMarcus Cousins', 373: 'Emeka Okafor', 374: \"E'Twaun Moore\", 375: 'Ian Clark', 376: 'Jordan Crawford', 377: 'Josh Smith', 378: 'Jrue Holiday', 379: 'Nikola Mirotic', 380: 'Omer Asik', 381: 'Rajon Rondo', 382: 'Solomon Hill', 383: 'Tony Allen', 384: 'Walter Lemon Jr.', 385: 'Antonio Blakeney', 386: 'Bobby Portis', 387: 'Cameron Payne', 388: 'Cristiano Felicio', 389: 'David Nwaba', 390: 'Denzel Valentine', 391: 'Jerian Grant', 392: 'Justin Holiday', 393: 'Kris Dunn', 394: 'Lauri Markkanen', 395: 'Paul Zipser', 396: 'Quincy Pondexter', 397: 'Robin Lopez', 398: 'Ryan Arcidiacono', 399: 'Zach LaVine', 400: 'Austin Rivers', 401: 'C.J. Williams', 402: 'Danilo Gallinari', 403: 'DeAndre Jordan', 404: 'Jamil Wilson', 405: 'Jawun Evans', 406: 'Lou Williams', 407: 'Milos Teodosic', 408: 'Montrezl Harrell', 409: 'Patrick Beverley', 410: 'Sam Dekker', 411: 'Sindarius Thornwell', 412: 'Tyrone Wallace', 413: 'Wesley Johnson', 414: 'Bam Adebayo', 415: 'Derrick Walton Jr.', 416: 'Dion Waiters', 417: 'Goran Dragic', 418: 'Hassan Whiteside', 419: 'James Johnson', 420: 'Jordan Mickey', 421: 'Josh Richardson', 422: 'Justise Winslow', 423: 'Kelly Olynyk', 424: 'Matt Williams Jr.', 425: 'Okaro White', 426: 'Rodney McGruder', 427: 'Tyler Johnson', 428: 'Udonis Haslem', 429: 'Wayne Ellington', 430: 'Bogdan Bogdanovic', 431: 'Buddy Hield', 432: \"De'Aaron Fox\", 433: 'Frank Mason', 434: 'Garrett Temple', 435: 'Jack Cooley', 436: 'JaKarr Sampson', 437: 'Justin Jackson', 438: 'Kosta Koufos', 439: 'Skal Labissiere', 440: 'Vince Carter', 441: 'Willie Cauley-Stein', 442: 'Zach Randolph', 443: 'Bradley Beal', 444: 'Chris McCullough', 445: 'Devin Robinson', 446: 'Ian Mahinmi', 447: 'Jason Smith', 448: 'Jodie Meeks', 449: 'John Wall', 450: 'Kelly Oubre Jr.', 451: 'Marcin Gortat', 452: 'Markieff Morris', 453: 'Mike Scott', 454: 'Otto Porter Jr.', 455: 'Ramon Sessions', 456: 'Tim Frazier', 457: 'Tomas Satoransky', 458: 'Brandon Jennings', 459: 'D.J. Wilson', 460: 'Giannis Antetokounmpo', 461: 'Jabari Parker', 462: 'Jason Terry', 463: 'Joel Bolomboy', 464: 'John Henson', 465: 'Khris Middleton', 466: 'Malcolm Brogdon', 467: 'Marshall Plumlee', 468: 'Matthew Dellavedova', 469: 'Mirza Teletovic', 470: 'Sterling Brown', 471: 'Thon Maker', 472: 'Tony Snell', 473: 'Xavier Munford', 474: 'Brandon Paul', 475: 'Bryn Forbes', 476: 'Danny Green', 477: 'Darrun Hilliard', 478: 'Davis Bertans', 479: 'Dejounte Murray', 480: 'Derrick White', 481: 'Joffrey Lauvergne', 482: 'Kawhi Leonard', 483: 'Kyle Anderson', 484: 'LaMarcus Aldridge', 485: 'Manu Ginobili', 486: 'Matt Costello', 487: 'Patty Mills', 488: 'Pau Gasol', 489: 'Rudy Gay', 490: 'Tony Parker', 491: 'Cody Zeller', 492: 'Dwayne Bacon', 493: 'Dwight Howard', 494: 'Frank Kaminsky', 495: 'Jeremy Lamb', 496: \"Johnny O'Bryant III\", 497: 'Julyan Stone', 498: 'Kemba Walker', 499: 'Malik Monk', 500: 'Mangok Mathiang', 501: 'Marcus Paige', 502: 'Marvin Williams', 503: 'Michael Carter-Williams', 504: 'Michael Kidd-Gilchrist', 505: 'Nicolas Batum', 506: 'Treveon Graham', 507: 'Willy Hernangomez', 508: 'Courtney Lee', 509: 'Damyean Dotson', 510: 'Emmanuel Mudiay', 511: 'Enes Kanter', 512: 'Frank Ntilikina', 513: 'Isaiah Hicks', 514: 'Jarrett Jack', 515: 'Joakim Noah', 516: 'Kristaps Porzingis', 517: \"Kyle O'Quinn\", 518: 'Lance Thomas', 519: 'Luke Kornet', 520: 'Michael Beasley', 521: 'Mindaugas Kuzminskas', 522: 'Ron Baker', 523: 'Tim Hardaway Jr.', 524: 'Trey Burke', 525: 'Darrell Arthur', 526: 'Gary Harris', 527: 'Jamal Murray', 528: 'Juancho Hernangomez', 529: 'Kenneth Faried', 530: 'Malik Beasley', 531: 'Mason Plumlee', 532: 'Monte Morris', 533: 'Nikola Jokic', 534: 'Paul Millsap', 535: 'Richard Jefferson', 536: 'Torrey Craig', 537: 'Trey Lyles', 538: 'Tyler Lydon', 539: 'Will Barton', 540: 'Wilson Chandler', 541: 'Deonte Burton', 542: 'Tyler Davis', 543: 'Hamidou Diallo', 544: 'Donte Grantham', 545: 'Deandre Ayton', 546: 'Mikal Bridges', 547: 'Jimmer Fredette', 548: 'George King', 549: \"De'Anthony Melton\", 550: 'Elie Okobo', 551: 'Ray Spalding', 552: 'Emanuel Terry', 553: 'T.J. Warren', 554: 'Jaylen Adams', 555: 'Kevin Huerter', 556: 'Isaac Humphries', 557: 'BJ Johnson', 558: 'Jordan Sibert', 559: 'Omari Spellman', 560: 'Trae Young', 561: 'Yante Maten', 562: 'Duncan Robinson', 563: 'Deng Adel', 564: 'Jaron Blossomgame', 565: 'Brandon Knight', 566: 'Collin Sexton', 567: 'DeVaughn Akoon-Purcell', 568: 'Brandon Goodwin', 569: 'Jarred Vanderbilt', 570: 'Thomas Welsh', 571: 'Drew Eubanks', 572: 'Chimezie Metu', 573: 'Donatas Motiejunas', 574: 'Lonnie Walker IV', 575: 'Rawle Alkins', 576: 'Wendell Carter Jr.', 577: 'Chandler Hutchison', 578: 'Brandon Sampson', 579: 'Grayson Allen', 580: 'Mitchell Creek', 581: 'Rodions Kurucs', 582: 'Tahjere McCall', 583: 'Dzanan Musa', 584: 'Theo Pinson', 585: 'Billy Garrett', 586: 'John Jenkins', 587: 'Kevin Knox', 588: 'Mitchell Robinson', 589: 'Allonzo Trier', 590: 'Seth Curry', 591: 'Anfernee Simons', 592: 'Gary Trent Jr.', 593: 'Jevon Carter', 594: 'Dusty Hannahs', 595: 'Jaren Jackson Jr.', 596: 'DJ Stephens', 597: 'Julian Washburn', 598: 'Yuta Watanabe', 599: 'Aaron Holiday', 600: 'Alize Johnson', 601: 'Bonzie Colson', 602: 'Donte DiVincenzo', 603: 'Trevon Duval', 604: 'Christian Wood', 605: 'Kostas Antetokounmpo', 606: 'Ryan Broekhoff', 607: 'Jalen Brunson', 608: 'Luka Doncic', 609: 'Daryl Macon', 610: 'Chris Chiozza', 611: 'Gary Clark', 612: 'Vincent Edwards', 613: 'Isaiah Hartenstein', 614: 'Danuel House Jr.', 615: 'Terrence Jones', 616: 'James Nunnally', 617: 'Jordan Loyd', 618: 'Troy Brown Jr.', 619: 'Jordan McRae', 620: 'Chasson Randle', 621: 'Mo Bamba', 622: 'Isaiah Briscoe', 623: 'Troy Caupain', 624: 'Melvin Frazier Jr.', 625: 'Amile Jefferson', 626: 'Miles Bridges', 627: 'Joe Chealey', 628: \"Devonte' Graham\", 629: 'J.P. Macura', 630: 'Marvin Bagley III', 631: 'Harry Giles III', 632: 'Isaac Bonga', 633: 'Jemerrio Jones', 634: 'Scott Machado', 635: 'Svi Mykhailiuk', 636: 'Moritz Wagner', 637: 'Johnathan Williams', 638: 'Keita Bates-Diop', 639: 'Josh Okogie', 640: 'Cameron Reynolds', 641: 'Jared Terrell', 642: 'Brad Wanamaker', 643: 'Robert Williams III', 644: 'Marcus Derrickson', 645: 'Jacob Evans', 646: 'Dairis Bertans', 647: 'Frank Jackson', 648: 'Kenrich Williams', 649: 'Angel Delgado', 650: 'Shai Gilgeous-Alexander', 651: 'Jerome Robinson', 652: 'Landry Shamet', 653: 'Jonah Bolden', 654: 'Haywood Highsmith', 655: 'Shake Milton', 656: 'Zhaire Smith', 657: 'Bruce Brown', 658: 'Zach Lofton', 659: 'Kalin Lucas', 660: 'Khyri Thomas', 661: 'Darius Bazley', 662: 'Luguentz Dort', 663: 'Devon Hall', 664: 'Kevin Hervey', 665: 'Isaiah Roby', 666: 'Kyle Alexander', 667: 'Tyler Herro', 668: 'Kendrick Nunn', 669: 'KZ Okpala', 670: 'Chris Silva', 671: 'Gabe Vincent', 672: 'Keldon Johnson', 673: 'Luka Samanic', 674: 'Quinndary Weatherspoon', 675: 'Nickeil Alexander-Walker', 676: 'Zylan Cheatham', 677: 'Jaxson Hayes', 678: 'Nicolo Melli', 679: 'Zion Williamson', 680: 'Brandon Clarke', 681: 'Marko Guduric', 682: 'John Konchar', 683: 'Ja Morant', 684: 'Jarrod Uthoff', 685: 'Nicolas Claxton', 686: 'Donta Hall', 687: 'Jeremiah Martin', 688: 'RJ Barrett', 689: 'Ignas Brazdeikis', 690: 'Kevin Knox II', 691: 'Marcus Morris Sr.', 692: 'Vic Law', 693: 'Chris Clemons', 694: 'Michael Frazier', 695: 'William Howard', 696: 'P.J. Tucker', 697: 'Thanasis Antetokounmpo', 698: 'Devontae Cacok', 699: 'Talen Horton-Tucker', 700: 'Zach Norvell Jr.', 701: 'Moses Brown', 702: 'Wenyen Gabriel', 703: 'Jaylen Hoard', 704: 'Nassir Little', 705: 'Oshae Brissett', 706: 'Terence Davis', 707: 'Dewan Hernandez', 708: 'Shamorie Ponds', 709: 'Matt Thomas', 710: 'Paul Watson', 711: 'Daniel Gafford', 712: 'Adam Mokoka', 713: 'Max Strus', 714: 'Coby White', 715: 'Kyle Guy', 716: 'Justin James', 717: 'DaQuan Jeffries', 718: 'Eric Mika', 719: 'Jared Harper', 720: 'Ty Jerome', 721: 'Cameron Johnson', 722: 'Jalen Lecque', 723: 'Tariq Owens', 724: 'Caleb Martin', 725: 'Cody Martin', 726: 'Jalen McDaniels', 727: 'P.J. Washington', 728: 'Josh Reaves', 729: 'Bol Bol', 730: 'Vlatko Cancar', 731: 'Tyler Cook', 732: 'Michael Porter Jr.', 733: 'Jarrett Culver', 734: 'Kelan Martin', 735: 'Jordan McLaughlin', 736: 'Jaylen Nowell', 737: 'Naz Reid', 738: 'Rui Hachimura', 739: 'Garrison Mathews', 740: 'Anzejs Pasecniks', 741: 'Justin Robinson', 742: 'Admiral Schofield', 743: 'Charles Brown Jr.', 744: 'Bruno Fernando', 745: \"De'Andre Hunter\", 746: 'Cam Reddish', 747: 'Ky Bowman', 748: 'Mychal Mulder', 749: 'Jeremy Pargo', 750: 'Eric Paschall', 751: 'Jordan Poole', 752: 'Alen Smailagic', 753: 'Juan Toscano-Anderson', 754: 'Amir Coffey', 755: 'Mfiondu Kabengele', 756: 'Terance Mann', 757: 'Goga Bitadze', 758: 'Brian Bowen II', 759: 'Jarrell Brantley', 760: 'Stanton Kidd', 761: 'Juwan Morgan', 762: 'Miye Oni', 763: 'Rayjon Tucker', 764: 'Nigel Williams-Goss', 765: 'Justin Wright-Foreman', 766: 'Norvel Pelle', 767: 'Marial Shayok', 768: 'Matisse Thybulle', 769: 'Marques Bolden', 770: 'Darius Garland', 771: 'Matt Mooney', 772: 'Malik Newman', 773: 'Kevin Porter Jr.', 774: 'Dean Wade', 775: 'Jordan Bone', 776: 'Sekou Doumbouya', 777: 'Louis King', 778: 'Carsen Edwards', 779: 'Tacko Fall', 780: 'Javonte Green', 781: 'Romeo Langford', 782: 'Vincent Poirier', 783: 'Tremont Waters', 784: 'Grant Williams', 785: 'Reggie Perry', 786: 'Tyrese Maxey', 787: 'Isaiah Joe', 788: 'Dakota Mathias', 789: 'Paul Reed', 790: 'Lamar Stevens', 791: 'Isaac Okoro', 792: 'Dylan Windler', 793: 'Cole Anthony', 794: 'Karim Mane', 795: 'Chuma Okeke', 796: 'Deni Avdija', 797: 'Anthony Gill', 798: 'Cassius Winston', 799: 'Ty-Shon Alexander', 800: 'Jalen Smith', 801: 'Tyrese Haliburton', 802: \"Jahmi'us Ramsey\", 803: 'Robert Woodard II', 804: 'LaMelo Ball', 805: 'Nick Richards', 806: 'Vernon Carey Jr.', 807: 'Immanuel Quickley', 808: 'Obi Toppin', 809: 'Facundo Campazzo', 810: 'R.J. Hampton', 811: 'Markus Howard', 812: 'Zeke Nnaji', 813: 'Daniel Oturu', 814: 'Udoka Azubuike', 815: 'Elijah Hughes', 816: 'Trent Forrest', 817: 'Cassius Stanley', 818: 'Patrick Williams', 819: 'Devon Dotson', 820: 'James Wiseman', 821: 'Nico Mannion', 822: 'Jordan Nwora', 823: 'Sam Merrill', 824: 'Devin Vassell', 825: 'Tre Jones', 826: 'Desmond Bane', 827: 'Xavier Tillman', 828: 'Sean McDermott', 829: 'Malachi Flynn', 830: 'Jalen Harris', 831: 'Theo Maledon', 832: 'Aleksej Pokusevski', 833: 'Josh Hall', 834: 'Anthony Edwards', 835: 'Jaden McDaniels', 836: 'Payton Pritchard', 837: 'Aaron Nesmith', 838: 'Nathan Knight', 839: 'Skylar Mays', 840: 'CJ Elleby', 841: 'Keljin Blevins', 842: 'Saddiq Bey', 843: 'Isaiah Stewart', 844: 'Killian Hayes', 845: 'Saben Lee', 846: 'Deividas Sirvydis', 847: 'Precious Achiuwa', 848: 'Kira Lewis Jr.', 849: \"Jae'Sean Tate\", 850: 'Mason Jones', 851: 'Kenyon Martin Jr.', 852: 'Brodric Thomas', 853: 'Josh Green', 854: 'Tyrell Terry', 855: 'Nate Hinton'}\n"
     ]
    }
   ],
   "source": [
    "inverse_vocab = {index: token for token, index in vocab.items()}\n",
    "print(inverse_vocab)"
   ]
  },
  {
   "cell_type": "markdown",
   "metadata": {},
   "source": [
    "將球員名單句子向量化"
   ]
  },
  {
   "cell_type": "code",
   "execution_count": 124,
   "metadata": {},
   "outputs": [
    {
     "name": "stdout",
     "output_type": "stream",
     "text": [
      "[1, 2, 3, 4, 5, 6, 7, 8, 9, 10, 11, 12, 13, 14, 15, 16]\n"
     ]
    }
   ],
   "source": [
    "example_sequence = [vocab[word] for word in corpus[0].split(',')]\n",
    "print(example_sequence)"
   ]
  },
  {
   "cell_type": "code",
   "execution_count": 125,
   "metadata": {},
   "outputs": [
    {
     "data": {
      "text/plain": [
       "856"
      ]
     },
     "execution_count": 125,
     "metadata": {},
     "output_type": "execute_result"
    }
   ],
   "source": [
    "vocab_size"
   ]
  },
  {
   "cell_type": "code",
   "execution_count": 132,
   "metadata": {},
   "outputs": [
    {
     "name": "stdout",
     "output_type": "stream",
     "text": [
      "240\n"
     ]
    }
   ],
   "source": [
    "window_size = max_len\n",
    "positive_skip_grams, _ = tf.keras.preprocessing.sequence.skipgrams(\n",
    "      example_sequence, \n",
    "      vocabulary_size=vocab_size,\n",
    "      window_size=window_size,\n",
    "      negative_samples=0)\n",
    "print(len(positive_skip_grams))"
   ]
  },
  {
   "cell_type": "code",
   "execution_count": 129,
   "metadata": {
    "scrolled": true
   },
   "outputs": [
    {
     "name": "stdout",
     "output_type": "stream",
     "text": [
      "(6, 2): (Gorgui Dieng, Andrew Wiggins)\n",
      "(2, 13): (Andrew Wiggins, Nemanja Bjelica)\n",
      "(14, 6): (Shabazz Muhammad, Gorgui Dieng)\n",
      "(7, 1): (Jamal Crawford, Aaron Brooks)\n",
      "(2, 9): (Andrew Wiggins, Jimmy Butler)\n",
      "(14, 16): (Shabazz Muhammad, Tyus Jones)\n",
      "(13, 9): (Nemanja Bjelica, Jimmy Butler)\n",
      "(3, 4): (Anthony Brown, Cole Aldrich)\n",
      "(11, 4): (Karl-Anthony Towns, Cole Aldrich)\n",
      "(1, 11): (Aaron Brooks, Karl-Anthony Towns)\n",
      "(10, 6): (Justin Patton, Gorgui Dieng)\n",
      "(3, 2): (Anthony Brown, Andrew Wiggins)\n",
      "(13, 11): (Nemanja Bjelica, Karl-Anthony Towns)\n",
      "(1, 15): (Aaron Brooks, Taj Gibson)\n",
      "(9, 16): (Jimmy Butler, Tyus Jones)\n",
      "(4, 3): (Cole Aldrich, Anthony Brown)\n",
      "(2, 5): (Andrew Wiggins, Derrick Rose)\n",
      "(3, 14): (Anthony Brown, Shabazz Muhammad)\n",
      "(12, 11): (Marcus Georges-Hunt, Karl-Anthony Towns)\n",
      "(4, 13): (Cole Aldrich, Nemanja Bjelica)\n",
      "(8, 12): (Jeff Teague, Marcus Georges-Hunt)\n",
      "(16, 11): (Tyus Jones, Karl-Anthony Towns)\n",
      "(16, 1): (Tyus Jones, Aaron Brooks)\n",
      "(5, 12): (Derrick Rose, Marcus Georges-Hunt)\n",
      "(8, 6): (Jeff Teague, Gorgui Dieng)\n",
      "(14, 10): (Shabazz Muhammad, Justin Patton)\n",
      "(9, 7): (Jimmy Butler, Jamal Crawford)\n",
      "(2, 12): (Andrew Wiggins, Marcus Georges-Hunt)\n",
      "(12, 9): (Marcus Georges-Hunt, Jimmy Butler)\n",
      "(11, 12): (Karl-Anthony Towns, Marcus Georges-Hunt)\n",
      "(15, 5): (Taj Gibson, Derrick Rose)\n",
      "(6, 15): (Gorgui Dieng, Taj Gibson)\n",
      "(6, 7): (Gorgui Dieng, Jamal Crawford)\n",
      "(1, 3): (Aaron Brooks, Anthony Brown)\n",
      "(11, 2): (Karl-Anthony Towns, Andrew Wiggins)\n",
      "(6, 3): (Gorgui Dieng, Anthony Brown)\n",
      "(16, 3): (Tyus Jones, Anthony Brown)\n",
      "(14, 2): (Shabazz Muhammad, Andrew Wiggins)\n",
      "(6, 14): (Gorgui Dieng, Shabazz Muhammad)\n",
      "(14, 12): (Shabazz Muhammad, Marcus Georges-Hunt)\n",
      "(1, 5): (Aaron Brooks, Derrick Rose)\n",
      "(5, 9): (Derrick Rose, Jimmy Butler)\n",
      "(8, 11): (Jeff Teague, Karl-Anthony Towns)\n",
      "(6, 8): (Gorgui Dieng, Jeff Teague)\n",
      "(4, 7): (Cole Aldrich, Jamal Crawford)\n",
      "(2, 6): (Andrew Wiggins, Gorgui Dieng)\n",
      "(8, 2): (Jeff Teague, Andrew Wiggins)\n",
      "(9, 11): (Jimmy Butler, Karl-Anthony Towns)\n",
      "(6, 16): (Gorgui Dieng, Tyus Jones)\n",
      "(5, 2): (Derrick Rose, Andrew Wiggins)\n",
      "(13, 2): (Nemanja Bjelica, Andrew Wiggins)\n",
      "(9, 12): (Jimmy Butler, Marcus Georges-Hunt)\n",
      "(5, 11): (Derrick Rose, Karl-Anthony Towns)\n",
      "(2, 3): (Andrew Wiggins, Anthony Brown)\n",
      "(7, 11): (Jamal Crawford, Karl-Anthony Towns)\n",
      "(15, 1): (Taj Gibson, Aaron Brooks)\n",
      "(1, 9): (Aaron Brooks, Jimmy Butler)\n",
      "(7, 3): (Jamal Crawford, Anthony Brown)\n",
      "(10, 4): (Justin Patton, Cole Aldrich)\n",
      "(1, 4): (Aaron Brooks, Cole Aldrich)\n",
      "(12, 7): (Marcus Georges-Hunt, Jamal Crawford)\n",
      "(2, 15): (Andrew Wiggins, Taj Gibson)\n",
      "(14, 1): (Shabazz Muhammad, Aaron Brooks)\n",
      "(10, 13): (Justin Patton, Nemanja Bjelica)\n",
      "(10, 11): (Justin Patton, Karl-Anthony Towns)\n",
      "(16, 5): (Tyus Jones, Derrick Rose)\n",
      "(15, 7): (Taj Gibson, Jamal Crawford)\n",
      "(6, 1): (Gorgui Dieng, Aaron Brooks)\n",
      "(13, 6): (Nemanja Bjelica, Gorgui Dieng)\n",
      "(9, 5): (Jimmy Butler, Derrick Rose)\n",
      "(7, 16): (Jamal Crawford, Tyus Jones)\n",
      "(2, 8): (Andrew Wiggins, Jeff Teague)\n",
      "(8, 9): (Jeff Teague, Jimmy Butler)\n",
      "(15, 13): (Taj Gibson, Nemanja Bjelica)\n",
      "(1, 16): (Aaron Brooks, Tyus Jones)\n",
      "(16, 10): (Tyus Jones, Justin Patton)\n",
      "(8, 14): (Jeff Teague, Shabazz Muhammad)\n",
      "(1, 14): (Aaron Brooks, Shabazz Muhammad)\n",
      "(8, 1): (Jeff Teague, Aaron Brooks)\n",
      "(9, 15): (Jimmy Butler, Taj Gibson)\n",
      "(2, 14): (Andrew Wiggins, Shabazz Muhammad)\n",
      "(15, 4): (Taj Gibson, Cole Aldrich)\n",
      "(3, 15): (Anthony Brown, Taj Gibson)\n",
      "(12, 1): (Marcus Georges-Hunt, Aaron Brooks)\n",
      "(16, 14): (Tyus Jones, Shabazz Muhammad)\n",
      "(9, 8): (Jimmy Butler, Jeff Teague)\n",
      "(9, 3): (Jimmy Butler, Anthony Brown)\n",
      "(15, 11): (Taj Gibson, Karl-Anthony Towns)\n",
      "(13, 15): (Nemanja Bjelica, Taj Gibson)\n",
      "(9, 14): (Jimmy Butler, Shabazz Muhammad)\n",
      "(12, 3): (Marcus Georges-Hunt, Anthony Brown)\n",
      "(8, 13): (Jeff Teague, Nemanja Bjelica)\n",
      "(7, 14): (Jamal Crawford, Shabazz Muhammad)\n",
      "(7, 2): (Jamal Crawford, Andrew Wiggins)\n",
      "(13, 7): (Nemanja Bjelica, Jamal Crawford)\n",
      "(7, 13): (Jamal Crawford, Nemanja Bjelica)\n",
      "(14, 7): (Shabazz Muhammad, Jamal Crawford)\n",
      "(7, 9): (Jamal Crawford, Jimmy Butler)\n",
      "(8, 10): (Jeff Teague, Justin Patton)\n",
      "(10, 8): (Justin Patton, Jeff Teague)\n",
      "(7, 10): (Jamal Crawford, Justin Patton)\n",
      "(9, 1): (Jimmy Butler, Aaron Brooks)\n",
      "(13, 8): (Nemanja Bjelica, Jeff Teague)\n",
      "(9, 2): (Jimmy Butler, Andrew Wiggins)\n",
      "(4, 6): (Cole Aldrich, Gorgui Dieng)\n",
      "(2, 11): (Andrew Wiggins, Karl-Anthony Towns)\n",
      "(10, 5): (Justin Patton, Derrick Rose)\n",
      "(12, 4): (Marcus Georges-Hunt, Cole Aldrich)\n",
      "(14, 3): (Shabazz Muhammad, Anthony Brown)\n",
      "(3, 8): (Anthony Brown, Jeff Teague)\n",
      "(4, 15): (Cole Aldrich, Taj Gibson)\n",
      "(3, 6): (Anthony Brown, Gorgui Dieng)\n",
      "(6, 9): (Gorgui Dieng, Jimmy Butler)\n",
      "(12, 13): (Marcus Georges-Hunt, Nemanja Bjelica)\n",
      "(3, 10): (Anthony Brown, Justin Patton)\n",
      "(4, 14): (Cole Aldrich, Shabazz Muhammad)\n",
      "(4, 2): (Cole Aldrich, Andrew Wiggins)\n",
      "(16, 15): (Tyus Jones, Taj Gibson)\n",
      "(7, 12): (Jamal Crawford, Marcus Georges-Hunt)\n",
      "(6, 12): (Gorgui Dieng, Marcus Georges-Hunt)\n",
      "(12, 14): (Marcus Georges-Hunt, Shabazz Muhammad)\n",
      "(11, 9): (Karl-Anthony Towns, Jimmy Butler)\n",
      "(8, 5): (Jeff Teague, Derrick Rose)\n",
      "(11, 7): (Karl-Anthony Towns, Jamal Crawford)\n",
      "(14, 5): (Shabazz Muhammad, Derrick Rose)\n",
      "(1, 13): (Aaron Brooks, Nemanja Bjelica)\n",
      "(11, 8): (Karl-Anthony Towns, Jeff Teague)\n",
      "(13, 10): (Nemanja Bjelica, Justin Patton)\n",
      "(9, 13): (Jimmy Butler, Nemanja Bjelica)\n",
      "(5, 10): (Derrick Rose, Justin Patton)\n",
      "(16, 13): (Tyus Jones, Nemanja Bjelica)\n",
      "(2, 1): (Andrew Wiggins, Aaron Brooks)\n",
      "(5, 7): (Derrick Rose, Jamal Crawford)\n",
      "(13, 4): (Nemanja Bjelica, Cole Aldrich)\n",
      "(15, 10): (Taj Gibson, Justin Patton)\n",
      "(15, 9): (Taj Gibson, Jimmy Butler)\n",
      "(12, 15): (Marcus Georges-Hunt, Taj Gibson)\n",
      "(7, 6): (Jamal Crawford, Gorgui Dieng)\n",
      "(14, 4): (Shabazz Muhammad, Cole Aldrich)\n",
      "(4, 12): (Cole Aldrich, Marcus Georges-Hunt)\n",
      "(5, 4): (Derrick Rose, Cole Aldrich)\n",
      "(16, 12): (Tyus Jones, Marcus Georges-Hunt)\n",
      "(5, 14): (Derrick Rose, Shabazz Muhammad)\n",
      "(4, 1): (Cole Aldrich, Aaron Brooks)\n",
      "(15, 8): (Taj Gibson, Jeff Teague)\n",
      "(15, 2): (Taj Gibson, Andrew Wiggins)\n",
      "(15, 6): (Taj Gibson, Gorgui Dieng)\n",
      "(3, 11): (Anthony Brown, Karl-Anthony Towns)\n",
      "(15, 12): (Taj Gibson, Marcus Georges-Hunt)\n",
      "(13, 3): (Nemanja Bjelica, Anthony Brown)\n",
      "(2, 4): (Andrew Wiggins, Cole Aldrich)\n",
      "(15, 16): (Taj Gibson, Tyus Jones)\n",
      "(3, 7): (Anthony Brown, Jamal Crawford)\n",
      "(10, 1): (Justin Patton, Aaron Brooks)\n",
      "(1, 12): (Aaron Brooks, Marcus Georges-Hunt)\n",
      "(4, 5): (Cole Aldrich, Derrick Rose)\n",
      "(7, 15): (Jamal Crawford, Taj Gibson)\n",
      "(6, 4): (Gorgui Dieng, Cole Aldrich)\n",
      "(4, 9): (Cole Aldrich, Jimmy Butler)\n",
      "(10, 9): (Justin Patton, Jimmy Butler)\n",
      "(9, 10): (Jimmy Butler, Justin Patton)\n",
      "(6, 13): (Gorgui Dieng, Nemanja Bjelica)\n",
      "(6, 5): (Gorgui Dieng, Derrick Rose)\n",
      "(4, 11): (Cole Aldrich, Karl-Anthony Towns)\n",
      "(2, 10): (Andrew Wiggins, Justin Patton)\n",
      "(11, 13): (Karl-Anthony Towns, Nemanja Bjelica)\n",
      "(10, 14): (Justin Patton, Shabazz Muhammad)\n",
      "(5, 3): (Derrick Rose, Anthony Brown)\n",
      "(13, 12): (Nemanja Bjelica, Marcus Georges-Hunt)\n",
      "(3, 5): (Anthony Brown, Derrick Rose)\n",
      "(5, 13): (Derrick Rose, Nemanja Bjelica)\n",
      "(4, 16): (Cole Aldrich, Tyus Jones)\n",
      "(1, 8): (Aaron Brooks, Jeff Teague)\n",
      "(11, 6): (Karl-Anthony Towns, Gorgui Dieng)\n",
      "(12, 5): (Marcus Georges-Hunt, Derrick Rose)\n",
      "(5, 16): (Derrick Rose, Tyus Jones)\n",
      "(9, 6): (Jimmy Butler, Gorgui Dieng)\n",
      "(5, 15): (Derrick Rose, Taj Gibson)\n",
      "(11, 1): (Karl-Anthony Towns, Aaron Brooks)\n",
      "(10, 7): (Justin Patton, Jamal Crawford)\n",
      "(1, 10): (Aaron Brooks, Justin Patton)\n",
      "(16, 4): (Tyus Jones, Cole Aldrich)\n",
      "(12, 10): (Marcus Georges-Hunt, Justin Patton)\n",
      "(8, 16): (Jeff Teague, Tyus Jones)\n",
      "(8, 15): (Jeff Teague, Taj Gibson)\n",
      "(8, 7): (Jeff Teague, Jamal Crawford)\n",
      "(10, 2): (Justin Patton, Andrew Wiggins)\n",
      "(11, 5): (Karl-Anthony Towns, Derrick Rose)\n",
      "(7, 5): (Jamal Crawford, Derrick Rose)\n",
      "(9, 4): (Jimmy Butler, Cole Aldrich)\n",
      "(2, 16): (Andrew Wiggins, Tyus Jones)\n",
      "(14, 13): (Shabazz Muhammad, Nemanja Bjelica)\n",
      "(14, 8): (Shabazz Muhammad, Jeff Teague)\n",
      "(13, 16): (Nemanja Bjelica, Tyus Jones)\n",
      "(13, 5): (Nemanja Bjelica, Derrick Rose)\n",
      "(4, 10): (Cole Aldrich, Justin Patton)\n",
      "(2, 7): (Andrew Wiggins, Jamal Crawford)\n",
      "(15, 3): (Taj Gibson, Anthony Brown)\n",
      "(16, 7): (Tyus Jones, Jamal Crawford)\n",
      "(14, 9): (Shabazz Muhammad, Jimmy Butler)\n",
      "(11, 10): (Karl-Anthony Towns, Justin Patton)\n",
      "(12, 8): (Marcus Georges-Hunt, Jeff Teague)\n",
      "(16, 9): (Tyus Jones, Jimmy Butler)\n",
      "(3, 16): (Anthony Brown, Tyus Jones)\n",
      "(7, 4): (Jamal Crawford, Cole Aldrich)\n",
      "(8, 4): (Jeff Teague, Cole Aldrich)\n",
      "(1, 2): (Aaron Brooks, Andrew Wiggins)\n",
      "(11, 15): (Karl-Anthony Towns, Taj Gibson)\n",
      "(5, 1): (Derrick Rose, Aaron Brooks)\n",
      "(12, 16): (Marcus Georges-Hunt, Tyus Jones)\n",
      "(16, 6): (Tyus Jones, Gorgui Dieng)\n",
      "(7, 8): (Jamal Crawford, Jeff Teague)\n",
      "(16, 2): (Tyus Jones, Andrew Wiggins)\n",
      "(15, 14): (Taj Gibson, Shabazz Muhammad)\n",
      "(8, 3): (Jeff Teague, Anthony Brown)\n",
      "(10, 15): (Justin Patton, Taj Gibson)\n",
      "(10, 3): (Justin Patton, Anthony Brown)\n",
      "(16, 8): (Tyus Jones, Jeff Teague)\n",
      "(1, 7): (Aaron Brooks, Jamal Crawford)\n",
      "(11, 3): (Karl-Anthony Towns, Anthony Brown)\n",
      "(3, 1): (Anthony Brown, Aaron Brooks)\n",
      "(6, 10): (Gorgui Dieng, Justin Patton)\n",
      "(12, 2): (Marcus Georges-Hunt, Andrew Wiggins)\n",
      "(6, 11): (Gorgui Dieng, Karl-Anthony Towns)\n",
      "(10, 12): (Justin Patton, Marcus Georges-Hunt)\n",
      "(5, 6): (Derrick Rose, Gorgui Dieng)\n",
      "(3, 9): (Anthony Brown, Jimmy Butler)\n",
      "(11, 14): (Karl-Anthony Towns, Shabazz Muhammad)\n",
      "(13, 14): (Nemanja Bjelica, Shabazz Muhammad)\n",
      "(10, 16): (Justin Patton, Tyus Jones)\n",
      "(4, 8): (Cole Aldrich, Jeff Teague)\n",
      "(3, 13): (Anthony Brown, Nemanja Bjelica)\n",
      "(14, 11): (Shabazz Muhammad, Karl-Anthony Towns)\n",
      "(11, 16): (Karl-Anthony Towns, Tyus Jones)\n",
      "(5, 8): (Derrick Rose, Jeff Teague)\n",
      "(1, 6): (Aaron Brooks, Gorgui Dieng)\n",
      "(3, 12): (Anthony Brown, Marcus Georges-Hunt)\n",
      "(14, 15): (Shabazz Muhammad, Taj Gibson)\n",
      "(12, 6): (Marcus Georges-Hunt, Gorgui Dieng)\n",
      "(13, 1): (Nemanja Bjelica, Aaron Brooks)\n"
     ]
    }
   ],
   "source": [
    "for target, context in positive_skip_grams:\n",
    "      print(f\"({target}, {context}): ({inverse_vocab[target]}, {inverse_vocab[context]})\")"
   ]
  },
  {
   "cell_type": "code",
   "execution_count": null,
   "metadata": {},
   "outputs": [],
   "source": []
  },
  {
   "cell_type": "code",
   "execution_count": 11,
   "metadata": {},
   "outputs": [],
   "source": [
    "# Settings\n",
    "seed = 666\n",
    "sg = 0    # Word2Vec 有兩種算法，CBOW 以及 Skip-gram，這裡選擇了訓練比較快的 CBOW\n",
    "window_size = 5\n",
    "vector_size = 100    # 轉成向量的維度\n",
    "min_count = 1    # 詞頻少於 min_count 之詞彙不會參與訓練\n",
    "workers = 8    #  訓練的並行數量\n",
    "epochs = 5    # 訓練的迭代次數\n",
    "batch_words = 1000    # 每次給予多少詞彙量訓練\n",
    "\n",
    "train_data = word2vec.LineSentence('seg.txt')\n",
    "model = word2vec.Word2Vec(\n",
    "    train_data,\n",
    "    min_count=min_count,\n",
    "    size=vector_size,\n",
    "    workers=workers,\n",
    "    iter=epochs,\n",
    "    window=window_size,\n",
    "    sg=sg,\n",
    "    seed=seed,\n",
    "    batch_words=batch_words\n",
    ")\n",
    "\n",
    "model.save('word2vec.model')"
   ]
  }
 ],
 "metadata": {
  "kernelspec": {
   "display_name": "Python 3",
   "language": "python",
   "name": "python3"
  },
  "language_info": {
   "codemirror_mode": {
    "name": "ipython",
    "version": 3
   },
   "file_extension": ".py",
   "mimetype": "text/x-python",
   "name": "python",
   "nbconvert_exporter": "python",
   "pygments_lexer": "ipython3",
   "version": "3.7.3"
  }
 },
 "nbformat": 4,
 "nbformat_minor": 2
}
